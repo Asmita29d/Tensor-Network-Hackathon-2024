{
 "cells": [
  {
   "cell_type": "markdown",
   "metadata": {},
   "source": [
    "## Short guide to qtealeaves's QteaTensor.\n",
    "QteaTensor is a class that we use to represent a nonsymmetric tensor in our library in version $\\geq$ v1.0.0. It contains the wrappers for common numpy/cupy array subroutines + some other functions that are useful when handling the tensor networks. In this guide, we will go through how to initialize a QteaTensor and some commonly used functions.\n",
    "\n",
    "The source code can be found in\n",
    "``\n",
    "qtealeaves/tensors/tensor.py\n",
    "``, where you can find all the relevant documentation and available functions."
   ]
  },
  {
   "cell_type": "code",
   "execution_count": 14,
   "metadata": {},
   "outputs": [],
   "source": [
    "from qtealeaves.tensors import QteaTensor\n",
    "from qtealeaves.convergence_parameters import TNConvergenceParameters\n",
    "import numpy as np"
   ]
  },
  {
   "cell_type": "markdown",
   "metadata": {},
   "source": [
    "### Initializing a tensor"
   ]
  },
  {
   "cell_type": "code",
   "execution_count": 15,
   "metadata": {},
   "outputs": [
    {
     "name": "stdout",
     "output_type": "stream",
     "text": [
      "qtensor :\n",
      "[[0.39466325+0.30880968j 0.68547865+0.84312796j]\n",
      " [0.7112913 +0.27994013j 0.09490103+0.75061234j]]\n",
      "complex128\n"
     ]
    }
   ],
   "source": [
    "# possibility 1 - choose from the default initialization options\n",
    "qtensor = QteaTensor(\n",
    "                links = (2, 2), # dimension of each leg\n",
    "                ctrl=\"R\",   # initialization; 'R' is for random\n",
    "                device=\"cpu\", # cpu or gpu (i.e. using numpy or cupy for operations)\n",
    "                dtype = complex\n",
    "                )\n",
    "\n",
    "# accessing the tensor elements\n",
    "print('qtensor :')\n",
    "print(qtensor.elem)\n",
    "print(qtensor.dtype)"
   ]
  },
  {
   "cell_type": "code",
   "execution_count": 16,
   "metadata": {},
   "outputs": [
    {
     "name": "stdout",
     "output_type": "stream",
     "text": [
      "qtensor :\n",
      "[[0. 1.]\n",
      " [2. 3.]]\n",
      "float64\n"
     ]
    }
   ],
   "source": [
    "# possibility 2 - initialize from a numpy array\n",
    "elements = np.arange((4))\n",
    "elements = np.reshape(elements, (2,2))\n",
    "\n",
    "qtensor = QteaTensor.from_elem_array(tensor=elements, dtype=float)\n",
    "# note: be careful when creating qtensors out of array of integers to specify the dtype.\n",
    "# Otherwise the values of tensor elements are locked to only integer values\n",
    "\n",
    "# accessing the tensor elements\n",
    "print('qtensor :')\n",
    "print(qtensor.elem)\n",
    "print(qtensor.dtype)"
   ]
  },
  {
   "cell_type": "markdown",
   "metadata": {},
   "source": [
    "### Common functions"
   ]
  },
  {
   "cell_type": "markdown",
   "metadata": {},
   "source": [
    "Identity tensor and changing the tensor backend"
   ]
  },
  {
   "cell_type": "code",
   "execution_count": 17,
   "metadata": {},
   "outputs": [
    {
     "name": "stdout",
     "output_type": "stream",
     "text": [
      "identity tensor elements:\n",
      "[[1. 0. 0.]\n",
      " [0. 1. 0.]\n",
      " [0. 0. 1.]]\n",
      "device, dtype:\n",
      "cpu float64\n",
      "\n",
      "new device, new dtype:\n",
      "cpu int64\n"
     ]
    }
   ],
   "source": [
    "# initialize the identity tensor (= NxN matrix) with the same tensor backend as the reference tensor\n",
    "identity_tensor = qtensor.eye_like(link=3)\n",
    "print('identity tensor elements:')\n",
    "print(identity_tensor.elem)\n",
    "print('device, dtype:')\n",
    "print(identity_tensor.device, identity_tensor.dtype)\n",
    "\n",
    "# nevertheless we can always convert the dtype and the device of the tensor\n",
    "identity_tensor.convert(dtype=int, device='cpu')\n",
    "print('\\nnew device, new dtype:')\n",
    "print(identity_tensor.device, identity_tensor.dtype)"
   ]
  },
  {
   "cell_type": "markdown",
   "metadata": {},
   "source": [
    "Attaching/removing a dummy link"
   ]
  },
  {
   "cell_type": "code",
   "execution_count": 18,
   "metadata": {},
   "outputs": [
    {
     "name": "stdout",
     "output_type": "stream",
     "text": [
      "shape :  (2, 2)\n",
      "shape :  (1, 2, 1, 2)\n",
      "shape :  (2, 2)\n"
     ]
    }
   ],
   "source": [
    "print('shape : ', qtensor.elem.shape)\n",
    "\n",
    "# attach a link of dimension 1 to a given position\n",
    "qtensor.attach_dummy_link(position=0)\n",
    "qtensor.attach_dummy_link(position=2)\n",
    "print('shape : ', qtensor.shape)\n",
    "\n",
    "# remove a link of dimension 1 at certain position\n",
    "qtensor.remove_dummy_link(position=2)\n",
    "qtensor.remove_dummy_link(position=0)\n",
    "print('shape : ', qtensor.shape)\n"
   ]
  },
  {
   "cell_type": "markdown",
   "metadata": {},
   "source": [
    "Fusing/splitting the tensor indices"
   ]
  },
  {
   "cell_type": "code",
   "execution_count": 19,
   "metadata": {},
   "outputs": [
    {
     "name": "stdout",
     "output_type": "stream",
     "text": [
      "Original shape =  (1, 2, 3, 4, 5)\n",
      "Shape after transpose =  (1, 2, 5, 3, 4)\n",
      "Shape after fusing =  (10, 3, 4)\n",
      "\n",
      "Back to original shape :  (1, 2, 3, 4, 5)\n"
     ]
    }
   ],
   "source": [
    "# suppose we want to fuse the leg 0, 1, and 4 of the rank-5 tensor\n",
    "qtensor = QteaTensor(\n",
    "                links = (1, 2, 3, 4, 5), # dimension of each leg\n",
    "                ctrl=\"R\",\n",
    "                device=\"cpu\"\n",
    "                )\n",
    "print('Original shape = ', qtensor.shape)\n",
    "\n",
    "# first transpose such that legs that we want to fuse come consecutively\n",
    "qtensor.transpose_update(permutation=[0,1,4,2,3])\n",
    "print('Shape after transpose = ', qtensor.shape)\n",
    "\n",
    "# then fuse the first 3 legs\n",
    "qtensor.fuse_links_update(fuse_low=0, fuse_high=2)\n",
    "print('Shape after fusing = ', qtensor.shape)\n",
    "\n",
    "# let's go back to the original tensor\n",
    "qtensor.reshape_update((1,2,5,3,4))\n",
    "qtensor.transpose_update(permutation=[0,1,3,4,2])\n",
    "print('\\nBack to original shape : ', qtensor.shape)"
   ]
  },
  {
   "cell_type": "markdown",
   "metadata": {},
   "source": [
    "QR and SVD decompositions"
   ]
  },
  {
   "cell_type": "code",
   "execution_count": 20,
   "metadata": {},
   "outputs": [
    {
     "name": "stdout",
     "output_type": "stream",
     "text": [
      "Shapes after QR:  (1, 3, 3) (3, 2, 4, 5)\n",
      "Shapes after SVD:  (1, 3, 2) (2, 2, 4, 5) (2,) (1,)\n"
     ]
    }
   ],
   "source": [
    "# QR decomposition\n",
    "q_tens, r_tens = qtensor.split_qr(legs_left=[0,2], legs_right=[1,3,4])\n",
    "\n",
    "print('Shapes after QR: ', q_tens.shape, r_tens.shape)\n",
    "\n",
    "# SVD decomposition\n",
    "# must define the convergence parameters\n",
    "conv_params = TNConvergenceParameters(max_bond_dimension=2, cut_ratio=1e-5)\n",
    "s_tens, d_tens, singvals, singvals_cut = qtensor.split_svd(legs_left=[0,2], legs_right=[1,3,4],\n",
    "                                            conv_params=conv_params)\n",
    "\n",
    "print('Shapes after SVD: ', s_tens.shape, d_tens.shape, singvals.shape, singvals_cut.shape)"
   ]
  }
 ],
 "metadata": {
  "kernelspec": {
   "display_name": "base",
   "language": "python",
   "name": "python3"
  },
  "language_info": {
   "codemirror_mode": {
    "name": "ipython",
    "version": 3
   },
   "file_extension": ".py",
   "mimetype": "text/x-python",
   "name": "python",
   "nbconvert_exporter": "python",
   "pygments_lexer": "ipython3",
   "version": "3.11.5"
  }
 },
 "nbformat": 4,
 "nbformat_minor": 2
}
