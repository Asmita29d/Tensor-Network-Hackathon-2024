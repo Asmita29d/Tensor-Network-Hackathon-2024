{
 "cells": [
  {
   "attachments": {},
   "cell_type": "markdown",
   "metadata": {},
   "source": [
    "# Running the groundstate search for 1D quantum Ising model in qtealeaves\n",
    "\n",
    "We are interested in the Ising model, defined with the Hamiltonian:\n",
    "\n",
    "$\\hat{H} = - J\\sum_{<ij>}\\sigma_x^i \\sigma_x^j - h \\sum_i \\sigma_z^i $\n",
    "\n",
    "We would like to find the groundstate energy and measure local observable $<\\sigma_z^i>$ on every site $i$ and correlation matrix $<\\sigma_x^i \\sigma_x^j>$."
   ]
  },
  {
   "cell_type": "code",
   "execution_count": null,
   "metadata": {},
   "outputs": [],
   "source": [
    "import numpy as np\n",
    "import qtealeaves as qtl"
   ]
  },
  {
   "attachments": {},
   "cell_type": "markdown",
   "metadata": {},
   "source": [
    "## Example 1: \n",
    "**Most simple setup** - one system size, one bond dimension, one external field value"
   ]
  },
  {
   "cell_type": "code",
   "execution_count": null,
   "metadata": {},
   "outputs": [],
   "source": [
    "# number of particles\n",
    "size = 8\n",
    "# external field value\n",
    "external_field = 0.5"
   ]
  },
  {
   "attachments": {},
   "cell_type": "markdown",
   "metadata": {},
   "source": [
    "### Model and operators needed for the model \n",
    "In this case we want to run simulations for quantum Ising model in 1D with open boundary conditions.\n",
    "There is the build-in function for getting this model, but we can also build it from scratch"
   ]
  },
  {
   "attachments": {},
   "cell_type": "markdown",
   "metadata": {},
   "source": [
    "**Option #1:** building a model from scratch"
   ]
  },
  {
   "cell_type": "code",
   "execution_count": null,
   "metadata": {},
   "outputs": [],
   "source": [
    "from qtealeaves import modeling\n",
    "\n",
    "# params will be the dictionary with the information of interaction strength, field strength, system size, etc...\n",
    "\n",
    "# Hamiltonian will depend on the value of external field \"g\"\n",
    "model_name = lambda params: \"QIsing_g%2.4f\" % (params[\"g\"])\n",
    "\n",
    "# Define a general quantum model - 1-dimensional, of size \"L\", with a given name\n",
    "model = modeling.QuantumModel(dim=1, lvals=\"L\", name=model_name)\n",
    "\n",
    "# which operators we need for defining a model - we need spin-1/2 operators\n",
    "# each operator is labeled with a string - we need \"sz\", \"sx\"\n",
    "# spin-1/2 operators are already defined within the library, but in principle\n",
    "# one can define an arbitrary operator\n",
    "my_ops = qtl.operators.TNSpin12Operators()\n",
    "\n",
    "# Add the Hamiltonian terms\n",
    "model += modeling.LocalTerm(operator=\"sz\", strength=\"g\", prefactor=-1)\n",
    "model += modeling.TwoBodyTerm1D(\n",
    "    operators=[\"sx\", \"sx\"], shift=1, strength=\"J\", prefactor=-1, has_obc=True\n",
    ")"
   ]
  },
  {
   "attachments": {},
   "cell_type": "markdown",
   "metadata": {},
   "source": [
    "**Option #2:** use a built-in function"
   ]
  },
  {
   "cell_type": "code",
   "execution_count": null,
   "metadata": {},
   "outputs": [],
   "source": [
    "model, my_ops = qtl.models.get_quantum_ising_1d()"
   ]
  },
  {
   "attachments": {},
   "cell_type": "markdown",
   "metadata": {},
   "source": [
    "### Observables\n",
    "\n",
    "observables = quantities which we want to measure in a simulation\n",
    "\n",
    "In this example, we measure:\n",
    "- energy\n",
    "- local observable $<\\sigma_z>$ at every site\n",
    "- correlations $<\\sigma_x \\sigma_x>$ over all sites"
   ]
  },
  {
   "cell_type": "code",
   "execution_count": null,
   "metadata": {},
   "outputs": [],
   "source": [
    "# first define a general TNObservables class\n",
    "my_obs = qtl.observables.TNObservables()\n",
    "\n",
    "# then we add in it the observables that we want - energy is measured by default\n",
    "my_obs += qtl.observables.TNObsLocal(name = '<z>',\n",
    "                                     operator = 'sz')\n",
    "my_obs += qtl.observables.TNObsCorr(name = '<xx>',\n",
    "                                    operators = ['sx', 'sx'])\n"
   ]
  },
  {
   "attachments": {},
   "cell_type": "markdown",
   "metadata": {},
   "source": [
    "### Convergence parameters\n",
    "For groundstate search we need:\n",
    "\n",
    "- **Maximal bond dimension**: maximal bond dimension that can be reached in a tensor network = in every SVD decomposition we keep maximally \"max_bond_dim\" values\n",
    "\n",
    "- **Cut ratio**: cut ration after which the singular values are discarded = when rescaling all the singular values with the largest singular value, we discard of them which are smaller than \"cut_ratio\"\n",
    "\n",
    "- **Number of iterations** : number of sweeps in the DMRG groundstate search"
   ]
  },
  {
   "cell_type": "code",
   "execution_count": null,
   "metadata": {},
   "outputs": [],
   "source": [
    "from qtealeaves.convergence_parameters import TNConvergenceParameters\n",
    "\n",
    "max_bond_dim = 10\n",
    "cut_ratio = 1e-6\n",
    "max_iter = 3\n",
    "\n",
    "# we put it all into the TNConvergenceParameters object\n",
    "conv_params = TNConvergenceParameters(max_bond_dimension = max_bond_dim,\n",
    "                                      cut_ratio = cut_ratio,\n",
    "                                      max_iter = max_iter,\n",
    "                                      data_type='D', # double precision real\n",
    "                                      device='cpu', # we are running on CPUs\n",
    "                                      )"
   ]
  },
  {
   "attachments": {},
   "cell_type": "markdown",
   "metadata": {},
   "source": [
    "### Input/output folders\n",
    "\n",
    "- in input folder the library writes all the neccessary input files for the simulation\n",
    "- in output folder the results will be stored"
   ]
  },
  {
   "cell_type": "code",
   "execution_count": null,
   "metadata": {},
   "outputs": [],
   "source": [
    "input_folder = \"folder_in/\"\n",
    "output_folder = \"folder_out\""
   ]
  },
  {
   "attachments": {},
   "cell_type": "markdown",
   "metadata": {},
   "source": [
    "### Simulation\n",
    "\n",
    "Now we are ready to define the simulation with all this input. In qtealeaves, simulations are defined as the QuantumGreenTeaSimulation class.\n",
    "\n",
    "In addition, we need to specify the following:\n",
    "- tensor network type: 5 is for TTN, 6 is for MPS\n",
    "- tensor backend: 2 means QTeaTensor\n",
    "\n"
   ]
  },
  {
   "cell_type": "code",
   "execution_count": null,
   "metadata": {},
   "outputs": [],
   "source": [
    "simulation = qtl.QuantumGreenTeaSimulation(model, my_ops, conv_params, my_obs,\n",
    "                                    tn_type=5,\n",
    "                                    tensor_backend=2,\n",
    "                                    folder_name_input=input_folder,\n",
    "                                    folder_name_output=output_folder,\n",
    "                                    store_checkpoints=False\n",
    "    )"
   ]
  },
  {
   "attachments": {},
   "cell_type": "markdown",
   "metadata": {},
   "source": [
    "### Set the parameters and run the simulation"
   ]
  },
  {
   "cell_type": "code",
   "execution_count": null,
   "metadata": {},
   "outputs": [],
   "source": [
    "# a dictionary which contains parameter values\n",
    "params = {'L' : size,\n",
    "        'J' : 1.0,\n",
    "        'g' : external_field,\n",
    "            }\n",
    "\n",
    "simulation.run(params, delete_existing_folder=True)"
   ]
  },
  {
   "attachments": {},
   "cell_type": "markdown",
   "metadata": {},
   "source": [
    "### Get the results"
   ]
  },
  {
   "cell_type": "code",
   "execution_count": null,
   "metadata": {},
   "outputs": [],
   "source": [
    "results = simulation.get_static_obs(params)\n",
    "\n",
    "energy = results['energy']\n",
    "localz = results['<z>']\n",
    "corrxx = results['<xx>']\n",
    "\n",
    "print('Energy = ', energy)\n",
    "print('Local z = ', localz)\n",
    "print('Corrxx = ', corrxx)"
   ]
  },
  {
   "attachments": {},
   "cell_type": "markdown",
   "metadata": {},
   "source": [
    "## Example 2 - parametrizing the input\n",
    "\n",
    "Input can be parametrized, meaning that the actual values of the input parameters do not to be explicitly specified for defining the simulations. The actual values are evaluated only when we run the actual simulation.\n",
    "\n",
    "One simulation ---> supports multiple input"
   ]
  },
  {
   "cell_type": "code",
   "execution_count": null,
   "metadata": {},
   "outputs": [],
   "source": [
    "# model, operators\n",
    "model, my_ops = qtl.models.get_quantum_ising_1d()\n",
    "\n",
    "# observables\n",
    "my_obs = qtl.observables.TNObservables()\n",
    "\n",
    "sizes = [4, 8]\n",
    "external_fields = [0.1, 0.2, 0.5]\n",
    "\n",
    "max_bond_dim = 10\n",
    "max_iter = 3\n",
    "\n",
    "# we put it all into the TNConvergenceParameters object\n",
    "conv_params = TNConvergenceParameters(max_bond_dimension = 10,\n",
    "                                      max_iter = max_iter,\n",
    "                                      data_type='D', # double precision real\n",
    "                                      device='cpu', # we are running on CPUs\n",
    "                                      )\n"
   ]
  },
  {
   "attachments": {},
   "cell_type": "markdown",
   "metadata": {},
   "source": [
    "### Parametrize the input/output folders"
   ]
  },
  {
   "cell_type": "code",
   "execution_count": null,
   "metadata": {},
   "outputs": [],
   "source": [
    "input_folder = lambda params : 'input_L%02d_g%2.4f'%(\n",
    "        params['L'],\n",
    "        params['g'],\n",
    "    )\n",
    "\n",
    "output_folder = lambda params : 'output_L%02d_g%2.4f'%(\n",
    "        params['L'],\n",
    "        params['g'],\n",
    "    )"
   ]
  },
  {
   "attachments": {},
   "cell_type": "markdown",
   "metadata": {},
   "source": [
    "### Set up simulation as before"
   ]
  },
  {
   "cell_type": "code",
   "execution_count": null,
   "metadata": {},
   "outputs": [],
   "source": [
    "#print('my conv = ', conv_params.max_bond_dimension)\n",
    "simulation = qtl.QuantumGreenTeaSimulation(model, my_ops, conv_params, my_obs,\n",
    "                                    tn_type=5,\n",
    "                                    tensor_backend=2,\n",
    "                                    folder_name_input=input_folder,\n",
    "                                    folder_name_output=output_folder,\n",
    "                                    store_checkpoints=False\n",
    "    )"
   ]
  },
  {
   "attachments": {},
   "cell_type": "markdown",
   "metadata": {},
   "source": [
    "### Add all the parameter combinations to the list of parameter dictionaries"
   ]
  },
  {
   "cell_type": "code",
   "execution_count": null,
   "metadata": {},
   "outputs": [],
   "source": [
    "import itertools\n",
    "\n",
    "params = []\n",
    "\n",
    "# itertools: 1st one iterates slowly\n",
    "for size, external_field in itertools.product(sizes, external_fields):\n",
    "    params.append({\n",
    "            'L' : size,\n",
    "            'J' : 1.0,\n",
    "            'g' : external_field,\n",
    "       })\n",
    "\n",
    "for elem in params:\n",
    "    print(elem)"
   ]
  },
  {
   "attachments": {},
   "cell_type": "markdown",
   "metadata": {},
   "source": [
    "### Run the simulation for each of the parameter combinations"
   ]
  },
  {
   "cell_type": "code",
   "execution_count": null,
   "metadata": {},
   "outputs": [],
   "source": [
    "for elem in params:\n",
    "    print('params = ', elem)\n",
    "    simulation.run(elem, delete_existing_folder=True)\n",
    "\n",
    "    results = simulation.get_static_obs(elem)\n",
    "\n",
    "    energy = results['energy']\n",
    "\n",
    "    print('Energy = ', energy)"
   ]
  },
  {
   "cell_type": "markdown",
   "metadata": {},
   "source": [
    "## Example 3\n",
    "**Running multiple parameters in parallel on a cluster**\n",
    "\n",
    "There is a simple way of launching the parallel simulations with different input on a cluster via the single script. The setup is the same as above up to the part when we run the actual simulations.\n",
    "\n",
    "For running in parallel, go with:\n",
    "\n",
    "`simulation.run(params, delete_existing_folder=True, nthreads=<num_parallel_simulations>)`,\n",
    "\n",
    "where `params` is a list of input parameters as in Example 2.\n",
    "\n",
    "**Remark:**\n",
    "In this case, you must specify the number of MKL and OMP threads in the sbatch script to be equal to 1, i.e. add the following lines to the sbatch script:\n",
    "\n",
    "`export MKL_NUM_THREADS=1`\n",
    "\n",
    "`export OMP_NUM_THREADS=1`\n",
    "\n",
    "This ensures that the simulations are parallelized over the input, and not parallelizing the numpy operations which can be done by multithreading on multiple CPUs."
   ]
  },
  {
   "cell_type": "code",
   "execution_count": null,
   "metadata": {},
   "outputs": [],
   "source": []
  }
 ],
 "metadata": {
  "kernelspec": {
   "display_name": "base",
   "language": "python",
   "name": "python3"
  },
  "language_info": {
   "codemirror_mode": {
    "name": "ipython",
    "version": 3
   },
   "file_extension": ".py",
   "mimetype": "text/x-python",
   "name": "python",
   "nbconvert_exporter": "python",
   "pygments_lexer": "ipython3",
   "version": "3.11.5"
  },
  "orig_nbformat": 4,
  "vscode": {
   "interpreter": {
    "hash": "aecf5bd42e5f1dd7c0c8decd0b1ee6d04a31e216d242184817f638622d944c09"
   }
  }
 },
 "nbformat": 4,
 "nbformat_minor": 2
}
