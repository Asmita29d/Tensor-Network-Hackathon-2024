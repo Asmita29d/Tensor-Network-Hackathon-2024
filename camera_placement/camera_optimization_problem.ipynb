{
 "cells": [
  {
   "cell_type": "markdown",
   "metadata": {},
   "source": [
    "# Optimizing Camera Placement for Emergency Prevention and Response\n",
    "\n",
    "Scientific mentors: Matteo Vandelli and Daniele Dragoni (Leonardo S.p.a.)\n",
    "\n",
    "Here we propose a problem of interest in this field: an optimization problem involving the placement of hyperspectral cameras used in the prevention of natural disasters and in emergency response.\n",
    "The formulation of the problem is a simplified one, which has important connections with real-world scenarios.\n",
    "\n",
    "Simplifying assumptions are: \n",
    "- The field of view of the cameras is isotropic, while in reality it depends on the morphology of the territory.\n",
    "- The risk of a natural disaster occurring on the territory of choice is homogeneous.\n",
    "\n",
    "We have $N$ candidate sites and $C$ available antennas (we assume that $C=0$ means no constraint).\n",
    "\n",
    "The corresponding Ising problem has the following form, in terms of the Ising binary variables $z_i \\in \\{-1, 1\\}$:\n",
    "\n",
    "\\begin{align}\n",
    "H_C(z) &= \\sum\\limits_{i<j}^N W_{ij} z_i z_j - \\xi \\sum\\limits_{i=1}^N A_i z_i\\\\\n",
    "& \\text{s.t.} \n",
    "\\hspace{1cm}\\left\\{\\begin{matrix}\n",
    "\\sum\\limits_{i=1}^N z_i = N - 2C    \\hspace{1.5cm}&\\text{if $C>0$}\\\\\n",
    "\\text{none}   &\\text{if $C=0$}\n",
    "\\end{matrix}\\right.\n",
    "\\end{align}\n",
    "\n",
    "\n",
    "\n",
    "where \n",
    "- $W_{ij}$ is the overlap area between the fields of view of two cameras,\n",
    "- $A_i$ is the area covered by a camera at site $i$,\n",
    "- $\\xi$ is a positive real number to be suitably tuned.\n",
    "\n",
    "This problem has been proposed in Ref.[1] in the context of antenna placement.\n",
    "This \"spin ILP\" problem can be written in the unconstrained form:\n",
    "\\begin{align}\n",
    "H_P(z) = H_C(z) + P\\left(\\sum\\limits_{i=1}^N z_i - \\delta N\\right)^2\n",
    "\\end{align}\n",
    "where $P \\geq 0$ is a penalty term that has to be chosen large enough to obtain a ground state with the correct number of cameras, but not too large otherwise the optimization becomes more complicated. In this case, $P=0$ means that the problem is unconstrained.\n",
    "\n",
    "Your job is to study the performances of the TN algorithms (variational and/or imaginary-time) for **both** the *constrained* and *unconstrained* cases.\n",
    "\n",
    "\n",
    "[1] *Evaluating the Practicality of Quantum Optimization Algorithms for Prototypical Industrial Applications*,\n",
    "M. Vandelli, A. Lignarolo, C. Cavazzoni, D. Dragoni, arXiv:2311.11621 (2023)\n"
   ]
  },
  {
   "cell_type": "code",
   "execution_count": 1,
   "metadata": {},
   "outputs": [],
   "source": [
    "# Loading libraries to handle the problem\n",
    "import pandas as pd\n",
    "import numpy as np\n",
    "import matplotlib.pyplot as plt\n",
    "from scipy.stats.qmc import Sobol"
   ]
  },
  {
   "cell_type": "code",
   "execution_count": 2,
   "metadata": {},
   "outputs": [],
   "source": [
    "# Utility for plotting the antennas\n",
    "def plot_antennas(df, status, axes=None):\n",
    "    \"\"\"\n",
    "    Function for plotting the cameras with their field of view.\n",
    "    \n",
    "    \n",
    "    Input:\n",
    "    -----------------------------------------\n",
    "       df:     pandas Dataframe with cols \n",
    "               'id', 'x_loc', 'y_loc', 'radius'\n",
    "       status: numpy.array describing the status on/off (0/1) of the sites\n",
    "       axes:   mpl Axes object to add the cameras.\n",
    "               If None, new Axes object is created. \n",
    "               Default: None.\n",
    "    \n",
    "    Returns:\n",
    "    -----------------------------------------\n",
    "    None\n",
    "    \n",
    "    \"\"\"\n",
    "    if axes is None:\n",
    "        figure, axes = plt.subplots()\n",
    "    for n, row in df.iterrows():\n",
    "        color = 'g' if int(status[n]) == 0 else 'b'\n",
    "        alpha = 0.5 if int(status[n]) == 0 else 0.3\n",
    "        Drawing_colored_circle = plt.Circle(( row.x_loc , row.y_loc ), row.radius, color=color, alpha=alpha)\n",
    "        axes.set_aspect( 1 )\n",
    "        axes.add_artist( Drawing_colored_circle )\n",
    "    # ax = df.plot(x='x_loc', y='y_loc', kind='scatter', s='area', alpha=0.45)\n",
    "    df.plot(x='x_loc', y='y_loc', kind='scatter', s=10., color='k', ax=axes)\n",
    "    df[['x_loc','y_loc','id']].apply(lambda x: axes.text(x[0], x[1], int(x[2])),axis=1)\n",
    "    axes.set_ylabel('Latitude', fontsize=14)\n",
    "    axes.set_xlabel('Longitude', fontsize=14)"
   ]
  },
  {
   "cell_type": "markdown",
   "metadata": {},
   "source": [
    "## Generation of the site locations\n",
    "\n",
    "For the purpose of this Hackathon, the sites will be generate in a quasi-random manner using [Sobol sequencies](https://docs.scipy.org/doc/scipy/reference/generated/scipy.stats.qmc.Sobol.html). The reason for this choice is that the sample will be evenly distributed in the region, unlike a randomly-generated sample.\n",
    "\n",
    "Industrial problems usually don't have symmetries so we explicitly avoid them. It would be tempting to choose cameras with the same field of view. However, this will introduce a symmetry which is usually absent in industrial problems: non-overlapping sites would have the same probability of being turned on. We remove this degeneracy by generating the fields of view randomly (but with fixed seed for reproducibility!). The choice below allows to scale the problem with a reasonable overlap as N increases.\n",
    "\n",
    "We generate here an instance of the problem with $N=16$ sites and $C=8$ cameras.\n",
    "This size of the problem should be easily solvable by brute-force search."
   ]
  },
  {
   "cell_type": "code",
   "execution_count": 3,
   "metadata": {},
   "outputs": [],
   "source": [
    "# number of sites\n",
    "N = 16\n",
    "\n",
    "# number of cameras\n",
    "C = N//2 \n",
    "\n",
    "# side of the square defining the simplified model\n",
    "a = 10\n",
    "\n",
    "# Generate radius of the antennas\n",
    "np.random.seed = 42\n",
    "radius = 0.5*a*(1. + np.random.rand(N))/np.sqrt(N)\n",
    "\n",
    "# Distribute sites uniformly but not symmetrically in the square\n",
    "m = int(np.ceil(np.log2(N)))\n",
    "sampler = Sobol(2, scramble=False, optimization='lloyd')\n",
    "sequence = sampler.random_base2(m=m)"
   ]
  },
  {
   "cell_type": "code",
   "execution_count": 4,
   "metadata": {},
   "outputs": [
    {
     "data": {
      "image/png": "[encoded data removed]",
      "text/plain": [
       "<Figure size 432x288 with 1 Axes>"
      ]
     },
     "metadata": {
      "needs_background": "light"
     },
     "output_type": "display_data"
    }
   ],
   "source": [
    "# Save the data of the cameras in a Pandas Dataframe\n",
    "\n",
    "xs = [a*x[0] for x in sequence][:N]\n",
    "ys = [a*x[1] for x in sequence][:N]\n",
    "\n",
    "d = {'id': np.arange(N, dtype=int), \n",
    "     'x_loc': xs, \n",
    "     'y_loc': ys, \n",
    "     'radius': radius,\n",
    "     'area': np.pi*radius**2}\n",
    "data = pd.DataFrame(data=d)\n",
    "\n",
    "# plot the sites\n",
    "plot_antennas(data, status=np.ones((data.shape[0],)))"
   ]
  },
  {
   "cell_type": "markdown",
   "metadata": {},
   "source": [
    "Compute the overlap between each pair of sites. This can be done with a simple function, knowing coordinates and radius of each camera, as discussed in [mathworld](https://mathworld.wolfram.com/Circle-CircleIntersection.html) or [stack-exchange](https://math.stackexchange.com/questions/97850/get-the-size-of-an-area-defined-by-2-overlapping-circles)."
   ]
  },
  {
   "cell_type": "code",
   "execution_count": 5,
   "metadata": {},
   "outputs": [],
   "source": [
    "def circle_overlap(x0, y0, r0, x1, y1, r1):\n",
    "    \"\"\" \n",
    "    Function to calculate the overlap between two circles,\n",
    "    given the coordinates of the center and the radius of each circle.\n",
    "\n",
    "    \n",
    "    Input:\n",
    "    -----------------------------------------\n",
    "       x0:  float, x-coordinate of first circle\n",
    "       y0:  float, y-coordinate of first circle\n",
    "       r0:  float, radius of first circle\n",
    "       x1:  float, x-coordinate of second circle\n",
    "       y1:  float, y-coordinate of second circle\n",
    "       r1:  float, radius of second circle\n",
    "    \n",
    "    Returns:\n",
    "    -----------------------------------------\n",
    "    float, overlap.\n",
    "    \n",
    "    \"\"\"\n",
    "    rr0 = r0*r0\n",
    "    rr1 = r1*r1\n",
    "    c = np.sqrt((x1-x0)*(x1-x0) + (y1-y0)*(y1-y0))\n",
    "    if c > r0 + r1:\n",
    "        return 0.0\n",
    "    if r0 > r1 + c:\n",
    "        return np.pi*r1**2\n",
    "    if r1 > r0 + c:\n",
    "        return np.pi*r0**2\n",
    "    phi = (np.arccos((rr0+(c*c)-rr1) / (2*r0*c)))\n",
    "    theta = (np.arccos((rr1+(c*c)-rr0) / (2*r1*c)))\n",
    "    overlap = theta*rr1 + phi*rr0 - 0.5*np.sqrt((r0+r1-c) * (r0-r1+c) * (r1-r0+c)*(r1+r0+c))\n",
    "    return overlap\n",
    "\n"
   ]
  },
  {
   "cell_type": "markdown",
   "metadata": {},
   "source": [
    "Build the $W_{ij}$ matrix and the $A_i$, given the previously-generated data for the sites."
   ]
  },
  {
   "cell_type": "code",
   "execution_count": 6,
   "metadata": {},
   "outputs": [],
   "source": [
    "def generate_problem(data, xi, normalize=False):\n",
    "    \"\"\" \n",
    "    Function to calculate the overlap matrix and the linear term of the Ising model,\n",
    "    given the problem parameters.\n",
    "\n",
    "    \n",
    "    Input:\n",
    "    -----------------------------------------\n",
    "        data: pandas.DataFrame,  data of the cameras.\n",
    "        xi: float, relative multiplier.\n",
    "        normalize: bool, return normalized terms. Default: False.\n",
    "    \n",
    "    Returns:\n",
    "    -----------------------------------------\n",
    "    float, overlap.\n",
    "    \n",
    "    \"\"\"\n",
    "    assert xi >= 0, r\"\\xi parameters must be non-negative.\"\n",
    "    W = np.zeros((data.shape[0], data.shape[0]))\n",
    "    for n, row1 in data.iterrows():\n",
    "        for m, row2 in data.iterrows():\n",
    "            if m == n:\n",
    "                continue\n",
    "            W[n, m] = circle_overlap(row1.x_loc, \n",
    "                                     row1.y_loc, \n",
    "                                     row1.radius,\n",
    "                                     row2.x_loc,\n",
    "                                     row2.y_loc,\n",
    "                                     row2.radius)\n",
    "\n",
    "    # We define the quantities in the theory\n",
    "    A = -xi * data['area'].to_numpy()\n",
    "\n",
    "    ## Normalize the matrices\n",
    "    if normalize:\n",
    "        norm = max([np.max(abs(W)), np.max(abs(A))])\n",
    "        W = W.copy()/norm\n",
    "        A = A.copy()/norm\n",
    "    return W, A"
   ]
  },
  {
   "cell_type": "markdown",
   "metadata": {},
   "source": [
    "## Case 1: unconstrained problem\n",
    "\n",
    "We create the Ising matrix and linear term of the unconstrained problem."
   ]
  },
  {
   "cell_type": "code",
   "execution_count": 7,
   "metadata": {},
   "outputs": [
    {
     "data": {
      "image/png": "[encoded data removed]",
      "text/plain": [
       "<Figure size 576x576 with 2 Axes>"
      ]
     },
     "metadata": {
      "needs_background": "light"
     },
     "output_type": "display_data"
    }
   ],
   "source": [
    "# actual generation of the problem\n",
    "W, A = generate_problem(data, 1.0, normalize=False)\n",
    "\n",
    "plt.figure(figsize=(8, 8))\n",
    "plt.imshow(W)\n",
    "plt.colorbar()\n",
    "plt.title(\"Overlap matrix between the cameras without constraints\")\n",
    "N = W.shape[0]\n",
    "N_r = np.arange(N)\n",
    "N_t = [str(i) for i in N_r]\n",
    "_ = plt.xticks(N_r, N_t)\n",
    "_ = plt.yticks(N_r, N_t)"
   ]
  },
  {
   "cell_type": "markdown",
   "metadata": {},
   "source": [
    "## Case 2: Constrained case\n",
    "\n",
    "We can then add the constrained part as follows.\n",
    "\n",
    "The soft formulation of the number constraint in the Ising form reads\n",
    "\\begin{align}\n",
    "       Q_P(x) &= \\left(\\sum_i x_i - C\\right)^2 = \\hspace{1cm} \\text{(QUBO)} \\longrightarrow \\text{(Ising)}\\\\\n",
    "       H_P(z) &=(\\sum_i (1+z_i)/2 - C)^2 = \\frac14 (\\sum_i (1 + z_i) - 2C )^2 =\\\\\n",
    "        &=\\frac14 (\\sum_i z_i + N_q - 2 C)^2 = \\frac14 (\\sum_i z_i^2 + 2\\sum_{i < j} z_i z_j + \\sum_i 2  \\, \\delta \\, N  z_i)\\\\\n",
    "        &= \\frac14 (N_q + 2\\sum_{i < j} z_i z_j + \\sum_i 2  \\, \\delta N \\, z_i)\n",
    "\\end{align}\n",
    "\n",
    "This part must be added to the unconstrained Hamiltonian in the case of constrained calculations.\n",
    "\n",
    "The function `number_constraint` takes care of this step."
   ]
  },
  {
   "cell_type": "code",
   "execution_count": 8,
   "metadata": {},
   "outputs": [],
   "source": [
    "def number_constraint(W, A, C, P, normalize=False):\n",
    "    \"\"\" \n",
    "    Function to calculate the overlap matrix and the linear term of the constrained \n",
    "    Ising model, given the unconstrained Ising matrix and linear term.\n",
    "\n",
    "    \n",
    "    Input:\n",
    "    -----------------------------------------\n",
    "       W:           numpy.ndarray, Ising matrix of unconstrained model, shape=(N, N)\n",
    "       A:           numpy.array, Ising linear term of unconstrained model, shape=(N,)\n",
    "       C:           int, number of available cameras\n",
    "       P:           int, penalty factor\n",
    "       normalize:   bool, normalize the Ising terms? Default: False. \n",
    "    \n",
    "    Returns:\n",
    "    -----------------------------------------\n",
    "        W_P:     numpy.ndarray, Ising matrix of constrained model, shape=(N, N)\n",
    "        A_P:     numpy.array, Ising linear term of constrained model, shape=(N,)\n",
    "        scaling: float, scaling applied to the matrices (if normalize is False, it is 1.0).\n",
    "    \n",
    "    \"\"\"\n",
    "    num_sites = W.shape[0]\n",
    "    assert P >=0, \"Penalty must be non-negative\"\n",
    "    assert N > C > 0, \"Number of cameras must be in (0, N)\"\n",
    "    W_P = W.copy() + 2 * P*(np.ones((num_sites, num_sites))\n",
    "                 -np.eye(num_sites))\n",
    "    A_P = A.copy() + 2 * P * (num_sites - 2*C) * np.ones((num_sites,))\n",
    "    scaling = 1.0\n",
    "    if normalize:\n",
    "        max_w = np.max(W_P)\n",
    "        max_node = np.max(np.abs(node_weight))\n",
    "        scaling = max([max_w, max_node])\n",
    "        W_P *= scaling\n",
    "        A_P *= scaling\n",
    "    return W_P, A_P, scaling\n"
   ]
  },
  {
   "cell_type": "code",
   "execution_count": 9,
   "metadata": {},
   "outputs": [],
   "source": [
    "W_P, A_P, scaling = number_constraint(W, A, C, P=2.0, normalize=False)"
   ]
  },
  {
   "cell_type": "code",
   "execution_count": 10,
   "metadata": {},
   "outputs": [
    {
     "data": {
      "image/png": "[encoded data removed]",
      "text/plain": [
       "<Figure size 576x576 with 2 Axes>"
      ]
     },
     "metadata": {
      "needs_background": "light"
     },
     "output_type": "display_data"
    }
   ],
   "source": [
    "plt.figure(figsize=(8, 8))\n",
    "plt.imshow(W_P)\n",
    "plt.colorbar()\n",
    "plt.title(\"Overlap matrix between the cameras with constraints\")\n",
    "N = W_P.shape[0]\n",
    "N_r = np.arange(N)\n",
    "N_t = [str(i) for i in N_r]\n",
    "_ = plt.xticks(N_r, N_t)\n",
    "_ = plt.yticks(N_r, N_t)"
   ]
  },
  {
   "cell_type": "code",
   "execution_count": 11,
   "metadata": {},
   "outputs": [],
   "source": [
    "# HINT: P=0. generates the unconstrained problem so you can wrap this\n",
    "# as you like and change only N, P and C"
   ]
  },
  {
   "cell_type": "markdown",
   "metadata": {},
   "source": [
    "## Comments on the tasks\n",
    "\n",
    "The tasks for this project are outlined in the README file. Here are a few more hints to solve the problem. Of course, feel free to express your creativity, if you find better performance indicators.\n",
    "\n",
    "\n",
    "- This project is not devoted to model derivation/setup, but mostly on the analysis of the results. The main focus of this project is to analyse the performance scaling as a function of the dimensionality of the system. A plot of \"metric\" vs $N$ should be provided for each selected metrics. An estimate of the scaling of the various metrics in the Big-O notation should be provided (polynomial, exponential...?). What are the differences in terms of runtime and accuracy between the constrained and unconstrained cases?\n",
    "\n",
    "\n",
    "- We start from a small instance with $N=16$, that you should be able to address directly with brute-force search (BF) in a matter of seconds. A problem with $N=32$ should also be solvable with BF, but could require minutes to hours depending on the efficiency/parallelism of your BF code. \n",
    "\n",
    "\n",
    "- The TN solver should work up to $N \\approx 1000$ qubits. In the current version, the tensor-network solver can handle variables which are powers of 2, so the number of variables should be set to $N = 2^n$. For the purpose of this Hackathon, we suggest to explore powers of two at least up to $N=512$ ($n=9$).\n",
    "\n",
    "\n",
    "- Imaginary-time and variational solvers have both internal hyper-parameters. Be sure to tune them properly to achieve good convergence!\n",
    "\n",
    "\n",
    "- If you decide to use a commercial code (CPLEX or GUROBI), you will be able to get the exact solution up to $N=256$.\n",
    "\n",
    "\n",
    "- If a metric requires the extraction of pseudorandom samples, please provide some estimate of the sampling uncertainty.\n",
    "\n",
    "\n",
    "### Suggestion of performance metrics\n",
    "\n",
    "The performance metrics of TN should include: \n",
    "- runtime of your solution\n",
    "- best generated solution\n",
    "- cost of the best solution\n",
    "- distribution of the sampled solutions\n",
    "\n",
    "For instances that you can solve exactly, you can also access the (single-instance) approximation ratio:\n",
    "\n",
    "\\begin{align}\n",
    "\\alpha(E) = \\frac{E}{H_{\\rm min}}\n",
    "\\end{align}\n",
    "\n",
    "or \n",
    "\n",
    "\\begin{align}\n",
    "\\alpha(E) = 1- \\frac{E-H_{\\rm min}}{H_{\\rm max} - H_{\\rm min}}\n",
    "\\end{align}\n",
    "\n",
    "so you can compute:\n",
    "- approximation ratio of expectation value ($E = \\langle H \\rangle$)\n",
    "- approximation ratio of the best generated solution ($E = E_{\\rm TN-best}$)\n",
    "- probability of getting the exact/best solution \n",
    "\n",
    "\n",
    "HINT: Would you include the penalty when estimating $\\alpha$? \n",
    "\n",
    "\n",
    "#### Thanks for your attention and have fun!"
   ]
  }
 ],
 "metadata": {
  "kernelspec": {
   "display_name": "Python 3",
   "language": "python",
   "name": "python3"
  },
  "language_info": {
   "codemirror_mode": {
    "name": "ipython",
    "version": 3
   },
   "file_extension": ".py",
   "mimetype": "text/x-python",
   "name": "python",
   "nbconvert_exporter": "python",
   "pygments_lexer": "ipython3",
   "version": "3.8.5"
  }
 },
 "nbformat": 4,
 "nbformat_minor": 4
}
