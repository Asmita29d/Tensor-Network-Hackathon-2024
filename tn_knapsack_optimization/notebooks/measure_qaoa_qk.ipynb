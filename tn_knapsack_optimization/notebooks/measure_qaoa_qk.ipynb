{
 "cells": [
  {
   "cell_type": "markdown",
   "metadata": {},
   "source": [
    "# Performance measurements on QAOA Qiskit"
   ]
  },
  {
   "cell_type": "code",
   "execution_count": 1,
   "metadata": {},
   "outputs": [],
   "source": [
    "import sys\n",
    "sys.path.append('..')\n",
    "\n",
    "from src import cplex\n",
    "import numpy as np\n",
    "from time import time\n",
    "from timeit import timeit, repeat\n",
    "import tracemalloc\n",
    "import matplotlib.pyplot as plt\n",
    "from tqdm.notebook import tqdm, trange\n",
    "from src import qaoa_qiskit, brute_force, data"
   ]
  },
  {
   "cell_type": "code",
   "execution_count": 10,
   "metadata": {},
   "outputs": [],
   "source": [
    "problem_sizes = np.arange(4, 17, 2)\n",
    "problem_Cs = 2*problem_sizes\n",
    "\n",
    "problems_weights = [np.random.randint(1, C-1, size=n, ) for n, C in zip(problem_sizes, problem_Cs)]\n",
    "problems_values = [np.random.randint(1, C+1, size=n) for n, C in zip(problem_sizes, problem_Cs)]"
   ]
  },
  {
   "cell_type": "code",
   "execution_count": null,
   "metadata": {},
   "outputs": [],
   "source": [
    "times = []\n",
    "memory = []\n",
    "repeats = 10\n",
    "\n",
    "for i in trange(problem_sizes.shape[0]):\n",
    "    start = time()\n",
    "    tracemalloc.start()\n",
    "    #time = repeat(lambda: cplex.cplex_kp_solver(problems_values[i], problems_weights[i], problem_Cs[i], problem_sizes[i]), repeat=repeats, number=repeats)\n",
    "    #cplex.cplex_kp_solver(problems_values[i], problems_weights[i], problem_Cs[i], problem_sizes[i])\n",
    "    result = qaoa_qiskit.qaoa(problems_values[i], problems_weights[i], problem_Cs[i])\n",
    "    times.append(time() - start)\n",
    "    memory.append(tracemalloc.get_traced_memory()[0])\n",
    "    tracemalloc.stop()\n"
   ]
  },
  {
   "cell_type": "code",
   "execution_count": null,
   "metadata": {},
   "outputs": [],
   "source": [
    "FONTSIZE = 14\n",
    "\n",
    "fig, ax = plt.subplots(1, 1, figsize=(7, 6))\n",
    "\n",
    "ax.plot(problem_sizes, np.array(times))\n",
    "#ax.set_xticks(problem_sizes)\n",
    "ax.tick_params(axis='both', which='major', labelsize=FONTSIZE-2)\n",
    "ax.set_yscale('log')\n",
    "ax.set_xlabel('Problem size', fontsize=FONTSIZE)\n",
    "ax.set_ylabel('Time (s)', color='tab:blue', fontsize=FONTSIZE)\n",
    "ax.set_title('QAOA Qiskit performance', fontsize=FONTSIZE+2)\n",
    "ax2 = ax.twinx()\n",
    "ax2.plot(problem_sizes, memory, color='tab:orange')\n",
    "ax2.tick_params(axis='y', which='major', labelsize=FONTSIZE-2)\n",
    "ax2.set_yscale('log')\n",
    "ax2.set_ylabel('Memory (bytes)', color='tab:orange', fontsize=FONTSIZE, rotation=270, labelpad=15)\n",
    "plt.show()"
   ]
  },
  {
   "cell_type": "code",
   "execution_count": null,
   "metadata": {},
   "outputs": [],
   "source": [
    "fig.savefig('qaoa_qiskit_performance.svg')\n",
    "np.save('qaoa_qiskit_performance.npy', np.array([problem_sizes, times, memory]))"
   ]
  },
  {
   "cell_type": "markdown",
   "metadata": {},
   "source": [
    "## Measure error"
   ]
  },
  {
   "cell_type": "code",
   "execution_count": 6,
   "metadata": {},
   "outputs": [],
   "source": [
    "problems = data.load('small', '../kp_instances')[:5]"
   ]
  },
  {
   "cell_type": "code",
   "execution_count": 7,
   "metadata": {},
   "outputs": [
    {
     "data": {
      "application/vnd.jupyter.widget-view+json": {
       "model_id": "a7b1f8f976494a1cb7efab8d82259b8a",
       "version_major": 2,
       "version_minor": 0
      },
      "text/plain": [
       "  0%|          | 0/25 [00:00<?, ?it/s]"
      ]
     },
     "metadata": {},
     "output_type": "display_data"
    },
    {
     "name": "stdout",
     "output_type": "stream",
     "text": [
      "Number of threads: 15\n",
      "Max samples: 31250000\n",
      "Number of steps: 1\n"
     ]
    },
    {
     "name": "stderr",
     "output_type": "stream",
     "text": [
      "100%|██████████| 1/1 [00:00<00:00, 50.55it/s]\n"
     ]
    },
    {
     "name": "stdout",
     "output_type": "stream",
     "text": [
      "Number of threads: 15\n",
      "Max samples: 31250000\n",
      "Number of steps: 1\n"
     ]
    },
    {
     "name": "stderr",
     "output_type": "stream",
     "text": [
      "100%|██████████| 1/1 [00:00<00:00, 33.47it/s]\n"
     ]
    },
    {
     "name": "stdout",
     "output_type": "stream",
     "text": [
      "Number of threads: 15\n",
      "Max samples: 31250000\n",
      "Number of steps: 1\n"
     ]
    },
    {
     "name": "stderr",
     "output_type": "stream",
     "text": [
      "100%|██████████| 1/1 [00:00<00:00, 47.51it/s]\n"
     ]
    },
    {
     "name": "stdout",
     "output_type": "stream",
     "text": [
      "Number of threads: 15\n",
      "Max samples: 31250000\n",
      "Number of steps: 1\n"
     ]
    },
    {
     "name": "stderr",
     "output_type": "stream",
     "text": [
      "100%|██████████| 1/1 [00:00<00:00, 50.51it/s]\n"
     ]
    },
    {
     "name": "stdout",
     "output_type": "stream",
     "text": [
      "Number of threads: 15\n",
      "Max samples: 31250000\n",
      "Number of steps: 1\n"
     ]
    },
    {
     "name": "stderr",
     "output_type": "stream",
     "text": [
      "100%|██████████| 1/1 [00:00<00:00, 51.19it/s]\n"
     ]
    },
    {
     "name": "stdout",
     "output_type": "stream",
     "text": [
      "Number of threads: 15\n",
      "Max samples: 31250000\n",
      "Number of steps: 1\n"
     ]
    },
    {
     "name": "stderr",
     "output_type": "stream",
     "text": [
      "100%|██████████| 1/1 [00:00<00:00, 40.02it/s]\n"
     ]
    },
    {
     "name": "stdout",
     "output_type": "stream",
     "text": [
      "Number of threads: 15\n",
      "Max samples: 31250000\n",
      "Number of steps: 1\n"
     ]
    },
    {
     "name": "stderr",
     "output_type": "stream",
     "text": [
      "100%|██████████| 1/1 [00:00<00:00, 50.76it/s]\n"
     ]
    },
    {
     "name": "stdout",
     "output_type": "stream",
     "text": [
      "Number of threads: 15\n",
      "Max samples: 31250000\n",
      "Number of steps: 1\n"
     ]
    },
    {
     "name": "stderr",
     "output_type": "stream",
     "text": [
      "100%|██████████| 1/1 [00:00<00:00, 39.07it/s]\n"
     ]
    },
    {
     "name": "stdout",
     "output_type": "stream",
     "text": [
      "Number of threads: 15\n",
      "Max samples: 31250000\n",
      "Number of steps: 1\n"
     ]
    },
    {
     "name": "stderr",
     "output_type": "stream",
     "text": [
      "100%|██████████| 1/1 [00:00<00:00, 49.31it/s]\n"
     ]
    },
    {
     "name": "stdout",
     "output_type": "stream",
     "text": [
      "Number of threads: 15\n",
      "Max samples: 31250000\n",
      "Number of steps: 1\n"
     ]
    },
    {
     "name": "stderr",
     "output_type": "stream",
     "text": [
      "100%|██████████| 1/1 [00:00<00:00, 49.50it/s]\n"
     ]
    },
    {
     "name": "stdout",
     "output_type": "stream",
     "text": [
      "Number of threads: 15\n",
      "Max samples: 31250000\n",
      "Number of steps: 1\n"
     ]
    },
    {
     "name": "stderr",
     "output_type": "stream",
     "text": [
      "100%|██████████| 1/1 [00:00<00:00, 48.25it/s]\n"
     ]
    },
    {
     "name": "stdout",
     "output_type": "stream",
     "text": [
      "Number of threads: 15\n",
      "Max samples: 31250000\n",
      "Number of steps: 1\n"
     ]
    },
    {
     "name": "stderr",
     "output_type": "stream",
     "text": [
      "100%|██████████| 1/1 [00:00<00:00, 48.56it/s]\n"
     ]
    }
   ],
   "source": [
    "bf_profits = []\n",
    "qaoa_profits = []\n",
    "reps = np.arange(1, 11, 2)\n",
    "\n",
    "pbar = tqdm(total=len(reps)*len(problems))\n",
    "for rep in reps:\n",
    "    bf_profits_rep = []\n",
    "    qaoa_profits_rep = []\n",
    "    for prob in problems:\n",
    "\n",
    "        result = qaoa_qiskit.qaoa(prob['profits'], prob['weights'], prob['C'], rep)\n",
    "        bf_results = brute_force.kp_brute_force(prob['profits'], prob['weights'], prob['C'], 40E9)\n",
    "\n",
    "        qaoa_qk_sol = result.best_measurement['bitstring']\n",
    "        qaoa_qk_sol_bits = np.logical_not(np.array([int(bit) for bit in qaoa_qk_sol])).astype(int)\n",
    "\n",
    "        bf_profits_rep.append(bf_results['profit'][0])\n",
    "        qaoa_profits_rep.append(qaoa_qk_sol_bits[:prob['n']].dot(prob['profits']))\n",
    "\n",
    "        pbar.update(1)\n",
    "\n",
    "    bf_profits.append(np.array(bf_profits_rep).mean())\n",
    "    qaoa_profits.append(np.array(qaoa_profits_rep).mean())\n",
    "\n",
    "pbar.close()\n",
    "\n",
    "    \n",
    "        "
   ]
  },
  {
   "cell_type": "code",
   "execution_count": null,
   "metadata": {},
   "outputs": [],
   "source": [
    "np.save('qaoa_vs_bf.npy', np.array([reps, bf_profits, qaoa_profits]))"
   ]
  },
  {
   "cell_type": "code",
   "execution_count": 15,
   "metadata": {},
   "outputs": [
    {
     "data": {
      "text/plain": [
       "[<matplotlib.lines.Line2D at 0x7f12dc68e140>]"
      ]
     },
     "execution_count": 15,
     "metadata": {},
     "output_type": "execute_result"
    },
    {
     "data": {
      "image/png": "[encoded data removed]",
      "text/plain": [
       "<Figure size 700x600 with 1 Axes>"
      ]
     },
     "metadata": {},
     "output_type": "display_data"
    }
   ],
   "source": [
    "qaoa_profits = np.array(qaoa_profits)\n",
    "bf_profits = np.array(bf_profits)\n",
    "\n",
    "fig, ax = plt.subplots(1, 1, figsize=(7, 6))\n",
    "\n",
    "ax.plot(reps, qaoa_profits/bf_profits)\n",
    "\n",
    "ax.set_xticks(reps)\n",
    "ax.tick_params(axis='both', which='major', labelsize=FONTSIZE-2)\n",
    "ax.set_xlabel('Repetitions', fontsize=FONTSIZE)\n",
    "ax.set_ylabel('QAOA / Brute force profit', color='tab:blue', fontsize=FONTSIZE)\n",
    "ax.set_title('QAOA accuracy', fontsize=FONTSIZE+2)\n",
    "plt.show()"
   ]
  },
  {
   "cell_type": "code",
   "execution_count": null,
   "metadata": {},
   "outputs": [],
   "source": []
  }
 ],
 "metadata": {
  "kernelspec": {
   "display_name": ".kp_venv",
   "language": "python",
   "name": "python3"
  },
  "language_info": {
   "codemirror_mode": {
    "name": "ipython",
    "version": 3
   },
   "file_extension": ".py",
   "mimetype": "text/x-python",
   "name": "python",
   "nbconvert_exporter": "python",
   "pygments_lexer": "ipython3",
   "version": "3.10.12"
  }
 },
 "nbformat": 4,
 "nbformat_minor": 2
}
