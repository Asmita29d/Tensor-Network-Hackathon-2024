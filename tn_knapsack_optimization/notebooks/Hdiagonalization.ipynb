{
 "cells": [
  {
   "cell_type": "code",
   "execution_count": 1,
   "id": "1b11ec2c-fe12-480d-911a-cec9d0975477",
   "metadata": {
    "tags": []
   },
   "outputs": [],
   "source": [
    "import numpy as np\n",
    "import tqdm\n",
    "\n",
    "import sys \n",
    "sys.path.append('../')\n",
    "from src import data, ising"
   ]
  },
  {
   "cell_type": "code",
   "execution_count": 2,
   "id": "099746ce",
   "metadata": {},
   "outputs": [
    {
     "name": "stdout",
     "output_type": "stream",
     "text": [
      "{'C': 10, 'n': 8, 'weights': [6, 6, 7, 4, 3, 3, 2, 2], 'profits': [6, 7, 7, 4, 3, 4, 2, 1]}\n"
     ]
    }
   ],
   "source": [
    "# Load the problem \n",
    "folder = 'small'\n",
    "n_prob = 0 \n",
    "\n",
    "problems = data.load(folder)\n",
    "problem = problems[n_prob]\n",
    "\n",
    "print(problem)"
   ]
  },
  {
   "cell_type": "code",
   "execution_count": 3,
   "id": "46ec0c72",
   "metadata": {},
   "outputs": [
    {
     "name": "stdout",
     "output_type": "stream",
     "text": [
      "{'C': 10, 'n': 8, 'weights': [6, 6, 7, 4, 3, 3, 2, 2], 'profits': [6, 7, 7, 4, 3, 4, 2, 1]}\n",
      "\n",
      "Eigenvalue:\n",
      "  -11.00 at position 2800\n",
      "\n",
      "Bitstrings:\n",
      "x : [0 1 0 1 0 0 0 0] : 11\n",
      "C = 10 | total weight : 10\n",
      "b : [1 1 1 1] : 10\n"
     ]
    },
    {
     "data": {
      "text/plain": [
       "(11, array([0, 1, 0, 1, 0, 0, 0, 0]), 10)"
      ]
     },
     "execution_count": 3,
     "metadata": {},
     "output_type": "execute_result"
    }
   ],
   "source": [
    "ising.diagonalization(problem, max(problem['profits']), verbose = True)"
   ]
  },
  {
   "cell_type": "code",
   "execution_count": 4,
   "id": "28152496",
   "metadata": {},
   "outputs": [],
   "source": [
    "folder = 'small'\n",
    "problems = data.load(folder)"
   ]
  },
  {
   "cell_type": "code",
   "execution_count": 5,
   "id": "03e14392",
   "metadata": {},
   "outputs": [
    {
     "name": "stdout",
     "output_type": "stream",
     "text": [
      "58.8 ms ± 5.26 ms per loop (mean ± std. dev. of 7 runs, 10 loops each)\n"
     ]
    }
   ],
   "source": [
    "%%timeit\n",
    "n_prob = np.random.randint(0, len(problems))\n",
    "ising.diagonalization(problems[n_prob], 10, verbose = False, method = 'qiskit')"
   ]
  },
  {
   "cell_type": "code",
   "execution_count": 6,
   "id": "2753ce61",
   "metadata": {},
   "outputs": [
    {
     "name": "stdout",
     "output_type": "stream",
     "text": [
      "36 ms ± 2.42 ms per loop (mean ± std. dev. of 7 runs, 10 loops each)\n"
     ]
    }
   ],
   "source": [
    "%%timeit\n",
    "n_prob = np.random.randint(0, len(problems))\n",
    "ising.diagonalization(problems[n_prob], 10, verbose = False, method = 'diag')"
   ]
  },
  {
   "cell_type": "code",
   "execution_count": null,
   "id": "1ccab513",
   "metadata": {},
   "outputs": [],
   "source": [
    "PROF = 0\n",
    "\n",
    "progress = tqdm.tqdm(np.linspace(0, 100, 1000))\n",
    "for lam in progress:\n",
    "    prof, x, total_weight = ising.diagonalization(problem, lam, False)\n",
    "\n",
    "    if prof > PROF:\n",
    "        if total_weight <= problem['C']:\n",
    "            print(f'---------------\\n Lambda {lam}')\n",
    "            _, _, _ = ising.diagonalization(problem, lam, True)\n",
    "            PROF = prof \n",
    "\n",
    "    progress.update(1)        "
   ]
  }
 ],
 "metadata": {
  "kernelspec": {
   "display_name": "Python 3.11.6 (ipykernel)",
   "language": "python",
   "name": "python3"
  },
  "language_info": {
   "codemirror_mode": {
    "name": "ipython",
    "version": 3
   },
   "file_extension": ".py",
   "mimetype": "text/x-python",
   "name": "python",
   "nbconvert_exporter": "python",
   "pygments_lexer": "ipython3",
   "version": "3.10.12"
  }
 },
 "nbformat": 4,
 "nbformat_minor": 5
}
