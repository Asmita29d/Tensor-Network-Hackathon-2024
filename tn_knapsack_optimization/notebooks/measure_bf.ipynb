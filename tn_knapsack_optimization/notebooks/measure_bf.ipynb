{
 "cells": [
  {
   "cell_type": "markdown",
   "metadata": {},
   "source": [
    "# Measure brute force performances"
   ]
  },
  {
   "cell_type": "code",
   "execution_count": 20,
   "metadata": {},
   "outputs": [],
   "source": [
    "import sys\n",
    "sys.path.append('..')\n",
    "\n",
    "from src import brute_force\n",
    "import numpy as np\n",
    "from time import time\n",
    "import tracemalloc\n",
    "import matplotlib.pyplot as plt\n",
    "from tqdm.notebook import tqdm, trange"
   ]
  },
  {
   "cell_type": "code",
   "execution_count": 30,
   "metadata": {},
   "outputs": [],
   "source": [
    "problem_sizes = np.arange(4, 36, 2)\n",
    "problem_Cs = 2*problem_sizes\n",
    "\n",
    "problems_weights = [np.random.randint(1, C-1, size=n, ) for n, C in zip(problem_sizes, problem_Cs)]\n",
    "problems_values = [np.random.randint(1, C+1, size=n) for n, C in zip(problem_sizes, problem_Cs)]"
   ]
  },
  {
   "cell_type": "code",
   "execution_count": 31,
   "metadata": {},
   "outputs": [
    {
     "data": {
      "application/vnd.jupyter.widget-view+json": {
       "model_id": "b349ad3a058b4d49b27a287b7725f100",
       "version_major": 2,
       "version_minor": 0
      },
      "text/plain": [
       "  0%|          | 0/16 [00:00<?, ?it/s]"
      ]
     },
     "metadata": {},
     "output_type": "display_data"
    },
    {
     "name": "stdout",
     "output_type": "stream",
     "text": [
      "Number of threads: 15\n",
      "Max samples: 41666666\n",
      "Number of steps: 1\n"
     ]
    },
    {
     "name": "stderr",
     "output_type": "stream",
     "text": [
      "100%|██████████| 1/1 [00:00<00:00, 45.26it/s]\n"
     ]
    },
    {
     "name": "stdout",
     "output_type": "stream",
     "text": [
      "Number of threads: 15\n",
      "Max samples: 35714285\n",
      "Number of steps: 1\n"
     ]
    },
    {
     "name": "stderr",
     "output_type": "stream",
     "text": [
      "100%|██████████| 1/1 [00:00<00:00, 10.84it/s]\n"
     ]
    },
    {
     "name": "stdout",
     "output_type": "stream",
     "text": [
      "Number of threads: 15\n",
      "Max samples: 31250000\n",
      "Number of steps: 1\n"
     ]
    },
    {
     "name": "stderr",
     "output_type": "stream",
     "text": [
      "100%|██████████| 1/1 [00:00<00:00, 28.07it/s]\n"
     ]
    },
    {
     "name": "stdout",
     "output_type": "stream",
     "text": [
      "Number of threads: 15\n",
      "Max samples: 27777777\n",
      "Number of steps: 1\n"
     ]
    },
    {
     "name": "stderr",
     "output_type": "stream",
     "text": [
      "100%|██████████| 1/1 [00:00<00:00, 42.10it/s]\n"
     ]
    },
    {
     "name": "stdout",
     "output_type": "stream",
     "text": [
      "Number of threads: 15\n",
      "Max samples: 25000000\n",
      "Number of steps: 1\n"
     ]
    },
    {
     "name": "stderr",
     "output_type": "stream",
     "text": [
      "100%|██████████| 1/1 [00:00<00:00, 51.26it/s]\n"
     ]
    },
    {
     "name": "stdout",
     "output_type": "stream",
     "text": [
      "Number of threads: 15\n",
      "Max samples: 22727272\n",
      "Number of steps: 1\n"
     ]
    },
    {
     "name": "stderr",
     "output_type": "stream",
     "text": [
      "100%|██████████| 1/1 [00:00<00:00, 45.04it/s]\n"
     ]
    },
    {
     "name": "stdout",
     "output_type": "stream",
     "text": [
      "Number of threads: 15\n",
      "Max samples: 20833333\n",
      "Number of steps: 1\n"
     ]
    },
    {
     "name": "stderr",
     "output_type": "stream",
     "text": [
      "100%|██████████| 1/1 [00:00<00:00, 30.80it/s]\n"
     ]
    },
    {
     "name": "stdout",
     "output_type": "stream",
     "text": [
      "Number of threads: 15\n",
      "Max samples: 19230769\n",
      "Number of steps: 1\n"
     ]
    },
    {
     "name": "stderr",
     "output_type": "stream",
     "text": [
      "100%|██████████| 1/1 [00:00<00:00, 15.43it/s]\n"
     ]
    },
    {
     "name": "stdout",
     "output_type": "stream",
     "text": [
      "Number of threads: 15\n",
      "Max samples: 17857142\n",
      "Number of steps: 1\n"
     ]
    },
    {
     "name": "stderr",
     "output_type": "stream",
     "text": [
      "100%|██████████| 1/1 [00:00<00:00,  4.56it/s]\n"
     ]
    },
    {
     "name": "stdout",
     "output_type": "stream",
     "text": [
      "Number of threads: 15\n",
      "Max samples: 16666666\n",
      "Number of steps: 1\n"
     ]
    },
    {
     "name": "stderr",
     "output_type": "stream",
     "text": [
      "100%|██████████| 1/1 [00:01<00:00,  1.29s/it]\n"
     ]
    },
    {
     "name": "stdout",
     "output_type": "stream",
     "text": [
      "Number of threads: 15\n",
      "Max samples: 15625000\n",
      "Number of steps: 2\n"
     ]
    },
    {
     "name": "stderr",
     "output_type": "stream",
     "text": [
      "100%|██████████| 1/1 [00:05<00:00,  5.05s/it]\n"
     ]
    },
    {
     "name": "stdout",
     "output_type": "stream",
     "text": [
      "Number of threads: 15\n",
      "Max samples: 14705882\n",
      "Number of steps: 5\n"
     ]
    },
    {
     "name": "stderr",
     "output_type": "stream",
     "text": [
      "100%|██████████| 1/1 [00:05<00:00,  5.28s/it]\n"
     ]
    },
    {
     "name": "stdout",
     "output_type": "stream",
     "text": [
      "Number of threads: 15\n",
      "Max samples: 13888888\n",
      "Number of steps: 20\n"
     ]
    },
    {
     "name": "stderr",
     "output_type": "stream",
     "text": [
      "100%|██████████| 2/2 [00:12<00:00,  6.24s/it]\n"
     ]
    },
    {
     "name": "stdout",
     "output_type": "stream",
     "text": [
      "Number of threads: 15\n",
      "Max samples: 13157894\n",
      "Number of steps: 82\n"
     ]
    },
    {
     "name": "stderr",
     "output_type": "stream",
     "text": [
      "100%|██████████| 6/6 [00:41<00:00,  6.92s/it]\n"
     ]
    },
    {
     "name": "stdout",
     "output_type": "stream",
     "text": [
      "Number of threads: 15\n",
      "Max samples: 12500000\n",
      "Number of steps: 344\n"
     ]
    },
    {
     "name": "stderr",
     "output_type": "stream",
     "text": [
      "100%|██████████| 23/23 [02:45<00:00,  7.20s/it]\n"
     ]
    },
    {
     "name": "stdout",
     "output_type": "stream",
     "text": [
      "Number of threads: 15\n",
      "Max samples: 11904761\n",
      "Number of steps: 1444\n"
     ]
    },
    {
     "name": "stderr",
     "output_type": "stream",
     "text": [
      "100%|██████████| 97/97 [11:52<00:00,  7.35s/it]\n"
     ]
    }
   ],
   "source": [
    "times = []\n",
    "memory = []\n",
    "max_ram = 40E9\n",
    "\n",
    "for i in trange(problem_sizes.shape[0]):\n",
    "    start = time()\n",
    "    tracemalloc.start()\n",
    "    brute_force.kp_brute_force(problems_values[i], problems_weights[i], problem_Cs[i], max_ram)\n",
    "    times.append(time() - start)\n",
    "    memory.append(tracemalloc.get_traced_memory()[1])\n",
    "    tracemalloc.stop()"
   ]
  },
  {
   "cell_type": "code",
   "execution_count": 38,
   "metadata": {},
   "outputs": [
    {
     "data": {
      "image/png": "[encoded data removed]",
      "text/plain": [
       "<Figure size 700x600 with 2 Axes>"
      ]
     },
     "metadata": {},
     "output_type": "display_data"
    }
   ],
   "source": [
    "FONTSIZE = 14\n",
    "\n",
    "fig, ax = plt.subplots(1, 1, figsize=(7, 6))\n",
    "\n",
    "ax.plot(problem_sizes, times)\n",
    "ax.set_xticks(problem_sizes)\n",
    "ax.tick_params(axis='both', which='major', labelsize=FONTSIZE-2)\n",
    "ax.set_yscale('log')\n",
    "ax.set_xlabel('Problem size', fontsize=FONTSIZE)\n",
    "ax.set_ylabel('Time (s)', color='tab:blue', fontsize=FONTSIZE)\n",
    "ax.set_title('Knapsack problem brute force performance', fontsize=FONTSIZE+2)\n",
    "ax2 = ax.twinx()\n",
    "ax2.plot(problem_sizes, memory, color='tab:orange')\n",
    "ax2.tick_params(axis='y', which='major', labelsize=FONTSIZE-2)\n",
    "ax2.set_yscale('log')\n",
    "ax2.set_ylabel('Memory (bytes)', color='tab:orange', fontsize=FONTSIZE, rotation=270, labelpad=15)\n",
    "plt.show()"
   ]
  },
  {
   "cell_type": "code",
   "execution_count": 39,
   "metadata": {},
   "outputs": [],
   "source": [
    "fig.savefig('brute_force_performance.svg')"
   ]
  },
  {
   "cell_type": "code",
   "execution_count": null,
   "metadata": {},
   "outputs": [],
   "source": []
  }
 ],
 "metadata": {
  "kernelspec": {
   "display_name": ".kp_venv",
   "language": "python",
   "name": "python3"
  },
  "language_info": {
   "codemirror_mode": {
    "name": "ipython",
    "version": 3
   },
   "file_extension": ".py",
   "mimetype": "text/x-python",
   "name": "python",
   "nbconvert_exporter": "python",
   "pygments_lexer": "ipython3",
   "version": "3.10.12"
  }
 },
 "nbformat": 4,
 "nbformat_minor": 2
}
