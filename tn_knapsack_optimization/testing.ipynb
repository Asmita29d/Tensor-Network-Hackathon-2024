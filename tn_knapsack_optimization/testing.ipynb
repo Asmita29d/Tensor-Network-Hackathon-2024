{
 "cells": [
  {
   "cell_type": "markdown",
   "metadata": {},
   "source": [
    "# Knapsack problem"
   ]
  },
  {
   "cell_type": "code",
   "execution_count": 8,
   "metadata": {},
   "outputs": [],
   "source": [
    "%load_ext autoreload\n",
    "%autoreload 2"
   ]
  },
  {
   "cell_type": "code",
   "execution_count": 71,
   "metadata": {},
   "outputs": [],
   "source": [
    "from src import qubo, data, ising, brute_force, cplex\n",
    "import numpy as np\n",
    "from time import time"
   ]
  },
  {
   "cell_type": "markdown",
   "metadata": {},
   "source": [
    "## Select the problem"
   ]
  },
  {
   "cell_type": "code",
   "execution_count": 2,
   "metadata": {},
   "outputs": [
    {
     "data": {
      "text/plain": [
       "{'C': 10,\n",
       " 'n': 8,\n",
       " 'weights': [6, 6, 7, 4, 3, 3, 2, 2],\n",
       " 'profits': [6, 7, 7, 4, 3, 4, 2, 1]}"
      ]
     },
     "execution_count": 2,
     "metadata": {},
     "output_type": "execute_result"
    }
   ],
   "source": [
    "kp_type = 'small'\n",
    "problems = data.load(kp_type, path='kp_instances')\n",
    "problem = problems[0]\n",
    "problem"
   ]
  },
  {
   "cell_type": "markdown",
   "metadata": {},
   "source": [
    "# Classical solvers"
   ]
  },
  {
   "cell_type": "markdown",
   "metadata": {},
   "source": [
    "## Brute force"
   ]
  },
  {
   "cell_type": "code",
   "execution_count": 90,
   "metadata": {},
   "outputs": [
    {
     "name": "stdout",
     "output_type": "stream",
     "text": [
      "Number of threads: 15\n",
      "Max samples: 31250000\n",
      "Number of steps: 1\n"
     ]
    },
    {
     "name": "stderr",
     "output_type": "stream",
     "text": [
      "100%|██████████| 1/1 [00:00<00:00, 55.21it/s]\n"
     ]
    },
    {
     "data": {
      "text/plain": [
       "{'profit': array([11, 11, 11, 11]),\n",
       " 'cost': array([10, 10,  9, 10]),\n",
       " 'combo': [array([3, 4, 5]), array([2, 5]), array([1, 5]), array([1, 3])]}"
      ]
     },
     "execution_count": 90,
     "metadata": {},
     "output_type": "execute_result"
    }
   ],
   "source": [
    "bf_sol = None\n",
    "if kp_type == 'large':\n",
    "    print('I CANNOT DO THAT SIR!')\n",
    "else:\n",
    "    max_ram = 40E9\n",
    "    st = time()\n",
    "    bf_sol = brute_force.kp_brute_force(problem['profits'], problem['weights'], problem['C'], max_ram)\n",
    "    et = time()\n",
    "    bf_time = et - st\n",
    "bf_sol"
   ]
  },
  {
   "cell_type": "code",
   "execution_count": 91,
   "metadata": {},
   "outputs": [
    {
     "name": "stdout",
     "output_type": "stream",
     "text": [
      "Best solution(s) found by brute force:\n",
      "Profit: 11\n",
      "Cost: 9\n",
      "Combo(s): [array([1, 5])]\n",
      "============\n",
      "  RUN INFO  \n",
      "============\n",
      "Run time: 0.0217 s\n"
     ]
    }
   ],
   "source": [
    "# get the solution which also minimises the cost\n",
    "best_indices = np.flatnonzero(bf_sol['cost'] == bf_sol['cost'].min())\n",
    "\n",
    "print('Best solution(s) found by brute force:')\n",
    "print('Profit:', bf_sol['profit'][best_indices[0]])\n",
    "print('Cost:', bf_sol['cost'][best_indices[0]])\n",
    "print('Combo(s):', [bf_sol['combo'][i] for i in best_indices])\n",
    "\n",
    "print('============')\n",
    "print('  RUN INFO  ')\n",
    "print('============')\n",
    "print(f'Run time: {bf_time :.4f} s')\n"
   ]
  },
  {
   "cell_type": "markdown",
   "metadata": {},
   "source": [
    "## CPlex"
   ]
  },
  {
   "cell_type": "code",
   "execution_count": 95,
   "metadata": {},
   "outputs": [
    {
     "name": "stdout",
     "output_type": "stream",
     "text": [
      "===================================\n",
      "Knapsack problem instance as a BLIP\n",
      "===================================\n",
      "Problem name: KP_0008_00010\n",
      "\n",
      "Maximize\n",
      "  6*x_0 + 7*x_1 + 7*x_2 + 4*x_3 + 3*x_4 + 4*x_5 + 2*x_6 + x_7\n",
      "\n",
      "Subject to\n",
      "  Linear constraints (1)\n",
      "    6*x_0 + 6*x_1 + 7*x_2 + 4*x_3 + 3*x_4 + 3*x_5 + 2*x_6 + 2*x_7\n",
      "    <= 10  'The total weight of the knapsack must not exceed 10'\n",
      "\n",
      "  Binary variables (8)\n",
      "    x_0 x_1 x_2 x_3 x_4 x_5 x_6 x_7\n",
      "\n",
      "===================================\n",
      "===================================\n",
      "\n",
      "\n",
      "\n",
      "Solution found by CPLEX:\n",
      "Profit: 11.0\n",
      "Cost: 9\n",
      "Combo: [1 5]\n",
      "===========================\n",
      "         RUN INFO          \n",
      "===========================\n",
      "Run time: 0.0150 s\n"
     ]
    }
   ],
   "source": [
    "cplex_sol = cplex.cplex_kp_solver(problem['profits'], problem['weights'], problem['C'], problem['n'])\n",
    "print('Solution found by CPLEX:')\n",
    "print('Profit:', cplex_sol['profit'])\n",
    "print('Cost:', cplex_sol['cost'])\n",
    "print('Combo:', np.flatnonzero(cplex_sol['combo']))\n",
    "\n",
    "print('===========================')\n",
    "print('         RUN INFO          ')\n",
    "print('===========================')\n",
    "cplex_time = cplex_sol['runtime']\n",
    "print(f'Run time: {cplex_time:.4f} s')"
   ]
  },
  {
   "cell_type": "markdown",
   "metadata": {},
   "source": [
    "# Quantum solvers"
   ]
  },
  {
   "cell_type": "markdown",
   "metadata": {},
   "source": [
    "## Exact diagonalization"
   ]
  },
  {
   "cell_type": "code",
   "execution_count": 92,
   "metadata": {},
   "outputs": [
    {
     "name": "stdout",
     "output_type": "stream",
     "text": [
      "Solution found by diagonalising the Hamiltonian:\n",
      "Profit: 10\n",
      "Cost: 10 \n",
      "Combo: [4 5 6 7]\n",
      "============\n",
      "  RUN INFO  \n",
      "============\n",
      "Time for QUBO: 0.0002 s\n",
      "Time for Hamiltonian coeffs: 0.0004 s\n",
      "Time for Hamiltonian: 0.0302 s\n",
      "Time for diagonalisation: 0.0001 s\n",
      "Total time: 0.0310 s\n"
     ]
    }
   ],
   "source": [
    "# get the qubo matrix\n",
    "LAMBDA = max(problem['profits']) + 2\n",
    "st = time()\n",
    "Q = qubo.get_Q(problem['weights'], problem['profits'], problem['C'], LAMBDA)\n",
    "t1 = time() - st\n",
    "\n",
    "# embed the qubo matrix into an hamiltonian\n",
    "st = time()\n",
    "h, J, offset = ising.qubo_to_hamiltonian(Q)\n",
    "t2 = time() - st\n",
    "\n",
    "if kp_type != 'small':\n",
    "    print('I CANNOT DO THAT SIR!')\n",
    "else:\n",
    "    # get the diagonal of the hamiltonian\n",
    "    st = time()\n",
    "    diag = ising.construct_quantum_hamiltonian_scipy(h, J, offset)\n",
    "    t3 = time() - st\n",
    "    st = time()\n",
    "    diag_sol = np.argmin(diag)\n",
    "    diag_sol_bits = (~brute_force.toBitstrings(diag_sol, Q.shape[0])).astype(int)\n",
    "    t4 = time() - st\n",
    "    cost = diag_sol_bits[:problem['n']].dot(problem['weights'])\n",
    "    profit = diag_sol_bits[:problem['n']].dot(problem['profits'])\n",
    "    ed_time = t1 + t2 + t3 + t4\n",
    "    print('Solution found by diagonalising the Hamiltonian:')\n",
    "    print('Profit:', profit)\n",
    "    print('Cost:', cost, f\" (but cost was: {problem['C']}\" if cost > problem['C'] else '')\n",
    "    print('Combo:', np.flatnonzero(diag_sol_bits[:problem['n']]))\n",
    "    print('============')\n",
    "    print('  RUN INFO  ')\n",
    "    print('============')\n",
    "    print(f'Time for QUBO: {t1:.4f} s')\n",
    "    print(f'Time for Hamiltonian coeffs: {t2:.4f} s')\n",
    "    print(f'Time for Hamiltonian: {t3:.4f} s')\n",
    "    print(f'Time for diagonalisation: {t4:.4f} s')\n",
    "    print(f'Total time: {ed_time:.4f} s')"
   ]
  },
  {
   "cell_type": "markdown",
   "metadata": {},
   "source": [
    "## QAOA in Qiskit"
   ]
  },
  {
   "cell_type": "code",
   "execution_count": 57,
   "metadata": {},
   "outputs": [],
   "source": [
    "from qiskit.result import QuasiDistribution\n",
    "\n",
    "from qiskit_algorithms import QAOA\n",
    "from qiskit.algorithms.optimizers import COBYLA\n",
    "\n",
    "from qiskit_algorithms.utils import algorithm_globals\n",
    "from qiskit.circuit.library import QAOAAnsatz\n",
    "from qiskit.primitives import Sampler\n",
    "from qiskit.quantum_info import Statevector\n",
    "\n",
    "def calc_cost_and_constraint(profits, weights, solution, C):\n",
    "    assert len(profits) == len(weights)\n",
    "    s = len(profits)\n",
    "\n",
    "    total_cost = sum(profits[i] * solution[i] for i in range(s))\n",
    "    print(\"Optimum value of profit function from ED = \",total_cost)\n",
    "\n",
    "    slack = sum((2**i) * solution[s + i] for i in range(len(solution) - (s + 1)))\n",
    "    slack += (C + 1 - 2**(len(solution) - s - 1)) * solution[-1]\n",
    "    print(\"Total value of slack variable = \", slack)\n",
    "\n",
    "    total_weight = sum(weights[k] * solution[k] for k in range(s))\n",
    "    if (total_weight <= C):\n",
    "       print(\"Total weight less than given constraint\")\n",
    "    else:\n",
    "       print(\"Weight constraint not satisfied; wrong solution\")"
   ]
  },
  {
   "cell_type": "code",
   "execution_count": 31,
   "metadata": {},
   "outputs": [],
   "source": [
    "# get the qubo matrix\n",
    "LAMBDA = max(problem['profits']) + 2\n",
    "Q = qubo.get_Q(problem['weights'], problem['profits'], problem['C'], LAMBDA)\n",
    "\n",
    "# embed the qubo matrix into an hamiltonian\n",
    "h, J, offset = ising.qubo_to_hamiltonian(Q)\n",
    "\n",
    "st = time()\n",
    "H = ising.construct_quantum_hamiltonian_qiskit(h, J, offset)\n",
    "t1 = time() - st"
   ]
  },
  {
   "cell_type": "code",
   "execution_count": 60,
   "metadata": {},
   "outputs": [],
   "source": [
    "sampler = Sampler()\n",
    "algorithm_globals.random_seed = 10598\n",
    "\n",
    "optimizer = COBYLA()\n",
    "qaoa = QAOA(sampler, optimizer, reps=2)\n",
    "\n",
    "result = qaoa.compute_minimum_eigenvalue(H)"
   ]
  },
  {
   "cell_type": "code",
   "execution_count": 96,
   "metadata": {},
   "outputs": [
    {
     "name": "stdout",
     "output_type": "stream",
     "text": [
      "Solution found by QAOA:\n",
      "Profit: 10\n",
      "Cost: 10\n",
      "Combo: [4 5 6 7]\n",
      "Slack: [0 0 0 0]\n",
      "Optimum value of profit function from ED =  10\n",
      "Total value of slack variable =  0\n",
      "Total weight less than given constraint\n",
      "============\n",
      "  RUN INFO  \n",
      "============\n",
      "Time for Hamiltonian: 0.0002 s\n",
      "Time for QAOA: 11.0921 s\n",
      "Total time: 11.0924 s\n"
     ]
    }
   ],
   "source": [
    "# get the solution\n",
    "qaoa_qk_sol = result.best_measurement['bitstring']\n",
    "qaoa_qk_sol_bits = np.logical_not(np.array([int(bit) for bit in qaoa_qk_sol])).astype(int)\n",
    "print('Solution found by QAOA:')\n",
    "print('Profit:', qaoa_qk_sol_bits[:problem['n']].dot(problem['profits']))\n",
    "print('Cost:', qaoa_qk_sol_bits[:problem['n']].dot(problem['weights']))\n",
    "print('Combo:', np.flatnonzero(qaoa_qk_sol_bits[:problem['n']]))\n",
    "print('Slack:', qaoa_qk_sol_bits[problem['n']:])\n",
    "calc_cost_and_constraint(problem['profits'], problem['weights'], qaoa_qk_sol_bits, problem['C'])\n",
    "print('============')\n",
    "print('  RUN INFO  ')\n",
    "print('============')\n",
    "qubo_qk_time = result.optimizer_time + t1\n",
    "print(f'Time for Hamiltonian: {t1:.4f} s')\n",
    "print(f'Time for QAOA: {result.optimizer_time:.4f} s')\n",
    "print(f'Total time: {qubo_qk_time:.4f} s')"
   ]
  },
  {
   "cell_type": "markdown",
   "metadata": {},
   "source": [
    "## QAOA in Matcha Tea"
   ]
  },
  {
   "cell_type": "code",
   "execution_count": null,
   "metadata": {},
   "outputs": [],
   "source": []
  }
 ],
 "metadata": {
  "kernelspec": {
   "display_name": ".kp_venv",
   "language": "python",
   "name": "python3"
  },
  "language_info": {
   "codemirror_mode": {
    "name": "ipython",
    "version": 3
   },
   "file_extension": ".py",
   "mimetype": "text/x-python",
   "name": "python",
   "nbconvert_exporter": "python",
   "pygments_lexer": "ipython3",
   "version": "3.10.12"
  }
 },
 "nbformat": 4,
 "nbformat_minor": 2
}
