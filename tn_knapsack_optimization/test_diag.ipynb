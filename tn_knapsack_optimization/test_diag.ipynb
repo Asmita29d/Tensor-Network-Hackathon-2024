{
 "cells": [
  {
   "cell_type": "code",
   "execution_count": 5,
   "metadata": {},
   "outputs": [],
   "source": [
    "from src import data, ising\n",
    "import numpy as np\n",
    "import tqdm"
   ]
  },
  {
   "cell_type": "code",
   "execution_count": 2,
   "metadata": {},
   "outputs": [],
   "source": [
    "problem = data.load('small', './kp_instances')[0]"
   ]
  },
  {
   "cell_type": "code",
   "execution_count": 3,
   "metadata": {},
   "outputs": [
    {
     "name": "stdout",
     "output_type": "stream",
     "text": [
      "{'C': 10, 'n': 8, 'weights': [6, 6, 7, 4, 3, 3, 2, 2], 'profits': [6, 7, 7, 4, 3, 4, 2, 1]}\n",
      "\n",
      "Eigenvalue:\n",
      "  -591.00 at position 3855\n",
      "\n",
      "Bitstrings:\n",
      "x : [0 0 0 0 1 1 1 1] : 10\n",
      "C = 10 | total weight : 10\n",
      "b : [0 0 0 0] : 0\n"
     ]
    },
    {
     "data": {
      "text/plain": [
       "(10, array([0, 0, 0, 0, 1, 1, 1, 1]), 10)"
      ]
     },
     "execution_count": 3,
     "metadata": {},
     "output_type": "execute_result"
    }
   ],
   "source": [
    "ising.diagonalization(problem, max(problem['profits']), True)\n"
   ]
  },
  {
   "cell_type": "code",
   "execution_count": 18,
   "metadata": {},
   "outputs": [
    {
     "name": "stderr",
     "output_type": "stream",
     "text": [
      "  0%|          | 0/1000 [00:00<?, ?it/s]"
     ]
    },
    {
     "name": "stderr",
     "output_type": "stream",
     "text": [
      "/home/samonaco/Tensor-Network-Hackathon-2024/tn_knapsack_optimization/src/brute_force.py:23: RuntimeWarning: divide by zero encountered in log2\n",
      "  assert bits >= np.ceil(np.log2(np.max(vector)))\n",
      "  0%|          | 5/1000 [00:00<02:40,  6.19it/s]"
     ]
    },
    {
     "name": "stdout",
     "output_type": "stream",
     "text": [
      "---------------\n",
      " Lambda 0.3003003003003003\n",
      "{'C': 10, 'n': 8, 'weights': [6, 6, 4, 4, 2, 2, 2, 2], 'profits': [6, 7, 4, 4, 2, 3, 2, 1]}\n"
     ]
    },
    {
     "name": "stderr",
     "output_type": "stream",
     "text": [
      "  1%|          | 6/1000 [00:01<03:47,  4.38it/s]"
     ]
    },
    {
     "name": "stdout",
     "output_type": "stream",
     "text": [
      "\n",
      "Eigenvalue:\n",
      "  -30.97 at position 3855\n",
      "\n",
      "Bitstrings:\n",
      "x : [0 0 0 0 1 1 1 1] : 8\n",
      "C = 10 | total weight : 8\n",
      "b : [0 0 0 0] : 0\n"
     ]
    },
    {
     "name": "stderr",
     "output_type": "stream",
     "text": [
      "100%|██████████| 1000/1000 [03:11<00:00,  5.23it/s]\n"
     ]
    }
   ],
   "source": [
    "PROF = 0\n",
    "\n",
    "progress = tqdm.tqdm(np.linspace(0, 100, 1000))\n",
    "for lam in progress:\n",
    "    prof, x, total_weight = ising.diagonalization(problem, lam, False)\n",
    "\n",
    "    if prof > PROF:\n",
    "        if total_weight <= problem['C']:\n",
    "            print(f'---------------\\n Lambda {lam}')\n",
    "            _, _, _ = ising.diagonalization(problem, lam, True)\n",
    "            PROF = prof \n",
    "\n",
    "    progress.update(1)        "
   ]
  }
 ],
 "metadata": {
  "kernelspec": {
   "display_name": "Python 3",
   "language": "python",
   "name": "python3"
  },
  "language_info": {
   "codemirror_mode": {
    "name": "ipython",
    "version": 3
   },
   "file_extension": ".py",
   "mimetype": "text/x-python",
   "name": "python",
   "nbconvert_exporter": "python",
   "pygments_lexer": "ipython3",
   "version": "3.10.12"
  }
 },
 "nbformat": 4,
 "nbformat_minor": 2
}
