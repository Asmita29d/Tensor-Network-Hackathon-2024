{
 "cells": [
  {
   "cell_type": "code",
   "execution_count": 1,
   "metadata": {},
   "outputs": [],
   "source": [
    "import sys \n",
    "\n",
    "sys.path.append('../')\n",
    "from src import data, qubo \n",
    "import os\n",
    "import numpy as np"
   ]
  },
  {
   "cell_type": "code",
   "execution_count": 2,
   "metadata": {},
   "outputs": [],
   "source": [
    "true_qubo_path = './kp_qubo_instances'\n",
    "problem_path   = './kp_instances'\n",
    "folders = ['small', 'medium', 'large']\n",
    "lam = 1.1\n",
    "\n",
    "atol = 1e-10"
   ]
  },
  {
   "cell_type": "code",
   "execution_count": 3,
   "metadata": {},
   "outputs": [],
   "source": [
    "for folder in folders:\n",
    "    marco_path = f'{true_qubo_path}/{folder}'\n",
    "    my_path    = f'{problem_path}/{folder}'\n",
    "\n",
    "    marco_files = sorted(os.listdir(marco_path))\n",
    "    my_files    = sorted(os.listdir(my_path))\n",
    "    for marco_file, my_file in zip(marco_files, my_files):\n",
    "        marco_qubo = np.loadtxt(f'{marco_path}/{marco_file}', delimiter=';')\n",
    "\n",
    "        problem = data.load_file(f'{my_path}/{my_file}')\n",
    "        my_qubo = np.triu(qubo.get_Q(problem['weights'], problem['profits'], problem['C'], lam*max(problem['profits'])))\n",
    "\n",
    "        if not np.allclose(marco_qubo, my_qubo, atol=atol):\n",
    "            print('aaaaaaaaaaaaaaaa')"
   ]
  },
  {
   "cell_type": "code",
   "execution_count": null,
   "metadata": {},
   "outputs": [],
   "source": []
  }
 ],
 "metadata": {
  "kernelspec": {
   "display_name": "env",
   "language": "python",
   "name": "python3"
  },
  "language_info": {
   "codemirror_mode": {
    "name": "ipython",
    "version": 3
   },
   "file_extension": ".py",
   "mimetype": "text/x-python",
   "name": "python",
   "nbconvert_exporter": "python",
   "pygments_lexer": "ipython3",
   "version": "3.10.12"
  }
 },
 "nbformat": 4,
 "nbformat_minor": 2
}
