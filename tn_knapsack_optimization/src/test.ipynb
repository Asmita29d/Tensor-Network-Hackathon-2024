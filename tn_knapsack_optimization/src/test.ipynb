{
 "cells": [
  {
   "cell_type": "code",
   "execution_count": 1,
   "id": "7791fc4f-43dd-40c8-a854-43886f0363f5",
   "metadata": {
    "tags": []
   },
   "outputs": [],
   "source": [
    "import numpy as np\n",
    "import data\n",
    "import qubo\n",
    "import ising\n"
   ]
  },
  {
   "cell_type": "code",
   "execution_count": 2,
   "id": "0e3fb0bb-6201-4b62-8247-034e3e730ef9",
   "metadata": {
    "tags": []
   },
   "outputs": [],
   "source": [
    "problemhere=np.loadtxt(\"./../kp_qubo_instances/small/kp_qubo_n_8_C_10_1\", delimiter=\";\")"
   ]
  },
  {
   "cell_type": "code",
   "execution_count": 4,
   "id": "0e34c981-0a07-4454-9a26-b1ad30c0342d",
   "metadata": {
    "tags": []
   },
   "outputs": [],
   "source": [
    "problems=data.load(\"small\", \"./../kp_instances\")\n",
    "problem=problems[13]"
   ]
  },
  {
   "cell_type": "code",
   "execution_count": 5,
   "id": "d76cfaf7-c4dc-4201-b231-af011d40a57f",
   "metadata": {
    "tags": []
   },
   "outputs": [
    {
     "name": "stdout",
     "output_type": "stream",
     "text": [
      "{'C': 22, 'n': 8, 'weights': [16, 14, 9, 9, 4, 6, 4, 5], 'profits': [13, 12, 6, 9, 6, 3, 1, 4]}\n"
     ]
    }
   ],
   "source": [
    "print(problem)"
   ]
  },
  {
   "cell_type": "code",
   "execution_count": 7,
   "id": "3f524023-75f8-43ac-9e04-ba6b5c3a9d6f",
   "metadata": {
    "tags": []
   },
   "outputs": [],
   "source": [
    "qubo1=qubo.get_Q(problem['weights'], problem['profits'], problem['C'], 200)"
   ]
  },
  {
   "cell_type": "code",
   "execution_count": 8,
   "id": "201b644a-11bc-4dd4-abbf-cbce9b02724b",
   "metadata": {
    "tags": []
   },
   "outputs": [],
   "source": [
    "H1, J1, Cte1=ising.qubo_to_hamiltonian(qubo1)"
   ]
  },
  {
   "cell_type": "code",
   "execution_count": 9,
   "id": "5fdf8d08-bbc7-4d4a-9f4e-d49f05af1149",
   "metadata": {
    "tags": []
   },
   "outputs": [],
   "source": [
    "H = ising.construct_quantum_hamiltonian_qiskit(H1, J1, Cte1)"
   ]
  },
  {
   "cell_type": "code",
   "execution_count": 10,
   "id": "f577be52-250f-4a71-bb93-84fb929f8690",
   "metadata": {
    "tags": []
   },
   "outputs": [
    {
     "name": "stderr",
     "output_type": "stream",
     "text": [
      "/scratch_local/slurm_job.13474173/ipykernel_34163/2668527933.py:4: DeprecationWarning: ``qiskit.algorithms`` has been migrated to an independent package: https://github.com/qiskit-community/qiskit-algorithms. The ``qiskit.algorithms`` import path is deprecated as of qiskit-terra 0.25.0 and will be removed no earlier than 3 months after the release date. Please run ``pip install qiskit_algorithms`` and use ``import qiskit_algorithms`` instead.\n",
      "  from qiskit.algorithms.optimizers import COBYLA\n"
     ]
    }
   ],
   "source": [
    "from qiskit.result import QuasiDistribution\n",
    "\n",
    "from qiskit_algorithms import QAOA\n",
    "from qiskit.algorithms.optimizers import COBYLA\n",
    "\n",
    "from qiskit_algorithms.utils import algorithm_globals\n",
    "from qiskit.circuit.library import QAOAAnsatz\n",
    "from qiskit.primitives import Sampler"
   ]
  },
  {
   "cell_type": "code",
   "execution_count": 11,
   "id": "d5bab1a2-4397-410c-ab06-5e503e394cd1",
   "metadata": {
    "tags": []
   },
   "outputs": [],
   "source": [
    "sampler = Sampler()\n",
    "algorithm_globals.random_seed = 10598\n",
    "\n",
    "optimizer = COBYLA()\n",
    "qaoa = QAOA(sampler, optimizer, reps=3)\n",
    "\n",
    "result = qaoa.compute_minimum_eigenvalue(H)\n",
    "#print(result)"
   ]
  },
  {
   "cell_type": "code",
   "execution_count": 12,
   "id": "d2c3efd6-e520-4164-9d54-75fc4fcd3ab3",
   "metadata": {
    "tags": []
   },
   "outputs": [
    {
     "name": "stdout",
     "output_type": "stream",
     "text": [
      "1111000011111\n",
      "[16, 14, 9, 9, 4, 6, 4, 5]\n",
      "[13, 12, 6, 9, 6, 3, 1, 4]\n"
     ]
    }
   ],
   "source": [
    "print(result.best_measurement['bitstring'])\n",
    "print(problem['weights'])\n",
    "print(problem['profits'])"
   ]
  },
  {
   "cell_type": "code",
   "execution_count": 13,
   "id": "fe3f1d66-665f-4db4-b8bd-049db15a20d6",
   "metadata": {
    "tags": []
   },
   "outputs": [
    {
     "name": "stderr",
     "output_type": "stream",
     "text": [
      "/scratch_local/slurm_job.13474173/ipykernel_34163/984616585.py:1: DeprecationWarning: The binary mode of fromstring is deprecated, as it behaves surprisingly on unicode inputs. Use frombuffer instead\n",
      "  np.fromstring(result.best_measurement['bitstring'], \"u1\")\n"
     ]
    },
    {
     "data": {
      "text/plain": [
       "array([49, 49, 49, 49, 48, 48, 48, 48, 49, 49, 49, 49, 49], dtype=uint8)"
      ]
     },
     "execution_count": 13,
     "metadata": {},
     "output_type": "execute_result"
    }
   ],
   "source": [
    "np.fromstring(result.best_measurement['bitstring'], \"u1\")"
   ]
  },
  {
   "cell_type": "code",
   "execution_count": 14,
   "id": "6f077a16-4258-4cc4-9be2-dbf63192a43e",
   "metadata": {
    "tags": []
   },
   "outputs": [
    {
     "data": {
      "text/plain": [
       "array('1111000011111', dtype='<U13')"
      ]
     },
     "execution_count": 14,
     "metadata": {},
     "output_type": "execute_result"
    }
   ],
   "source": [
    "np.array(result.best_measurement['bitstring'])"
   ]
  },
  {
   "cell_type": "code",
   "execution_count": 15,
   "id": "322639af-cab4-4f6d-aa57-6ba254ad3268",
   "metadata": {
    "tags": []
   },
   "outputs": [],
   "source": [
    "import psutil"
   ]
  },
  {
   "cell_type": "code",
   "execution_count": 16,
   "id": "7340e335-849b-4f63-9a38-588730a6d018",
   "metadata": {
    "tags": []
   },
   "outputs": [
    {
     "name": "stdout",
     "output_type": "stream",
     "text": [
      "svmem(total=404032720896, available=388909387776, percent=3.7, used=12405706752, free=386534150144, active=7233339392, inactive=2719404032, buffers=4440064, cached=5088423936, shared=6012928, slab=3079237632)\n"
     ]
    }
   ],
   "source": [
    "print(psutil.virtual_memory())"
   ]
  },
  {
   "cell_type": "code",
   "execution_count": 17,
   "id": "f6a57d49-1294-4726-bfae-b890bd7b5c33",
   "metadata": {
    "tags": []
   },
   "outputs": [
    {
     "data": {
      "text/plain": [
       "1.411919265985489"
      ]
     },
     "execution_count": 17,
     "metadata": {},
     "output_type": "execute_result"
    }
   ],
   "source": [
    "388105412608/274877906944"
   ]
  },
  {
   "cell_type": "code",
   "execution_count": null,
   "id": "cec184c4-8331-4424-bcb4-6e49c09b5d85",
   "metadata": {},
   "outputs": [],
   "source": []
  }
 ],
 "metadata": {
  "kernelspec": {
   "display_name": "Python 3.11.6 (ipykernel)",
   "language": "python",
   "name": "python3"
  },
  "language_info": {
   "codemirror_mode": {
    "name": "ipython",
    "version": 3
   },
   "file_extension": ".py",
   "mimetype": "text/x-python",
   "name": "python",
   "nbconvert_exporter": "python",
   "pygments_lexer": "ipython3",
   "version": "3.11.6"
  }
 },
 "nbformat": 4,
 "nbformat_minor": 5
}
