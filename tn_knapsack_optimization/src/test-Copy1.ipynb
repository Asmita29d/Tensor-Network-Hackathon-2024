{
 "cells": [
  {
   "cell_type": "code",
   "execution_count": 1,
   "id": "7791fc4f-43dd-40c8-a854-43886f0363f5",
   "metadata": {
    "tags": []
   },
   "outputs": [],
   "source": [
    "import numpy as np\n",
    "import data\n",
    "import qubo\n",
    "import ising\n"
   ]
  },
  {
   "cell_type": "code",
   "execution_count": 2,
   "id": "0e3fb0bb-6201-4b62-8247-034e3e730ef9",
   "metadata": {
    "tags": []
   },
   "outputs": [],
   "source": [
    "problems=data.load(\"small\", \"./../kp_instances\")"
   ]
  },
  {
   "cell_type": "code",
   "execution_count": 14,
   "id": "0e34c981-0a07-4454-9a26-b1ad30c0342d",
   "metadata": {
    "tags": []
   },
   "outputs": [],
   "source": [
    "problem=problems[0]"
   ]
  },
  {
   "cell_type": "code",
   "execution_count": 15,
   "id": "d76cfaf7-c4dc-4201-b231-af011d40a57f",
   "metadata": {
    "tags": []
   },
   "outputs": [
    {
     "name": "stdout",
     "output_type": "stream",
     "text": [
      "{'C': 10, 'n': 8, 'weights': [6, 6, 7, 4, 3, 3, 2, 2], 'profits': [6, 7, 7, 4, 3, 4, 2, 1]}\n"
     ]
    }
   ],
   "source": [
    "print(problem)"
   ]
  },
  {
   "cell_type": "code",
   "execution_count": 16,
   "id": "3f524023-75f8-43ac-9e04-ba6b5c3a9d6f",
   "metadata": {
    "tags": []
   },
   "outputs": [
    {
     "name": "stdout",
     "output_type": "stream",
     "text": [
      "(12, 12)\n"
     ]
    }
   ],
   "source": [
    "qubo1=qubo.get_Q(problem['weights'], problem['profits'], problem['C'], 200)\n",
    "print(qubo1.shape)\n"
   ]
  },
  {
   "cell_type": "code",
   "execution_count": 17,
   "id": "201b644a-11bc-4dd4-abbf-cbce9b02724b",
   "metadata": {
    "tags": []
   },
   "outputs": [],
   "source": [
    "H1, J1, Cte1=ising.qubo_to_hamiltonian(qubo1)\n"
   ]
  },
  {
   "cell_type": "code",
   "execution_count": 18,
   "id": "48485e14-7208-4de3-8056-46bb0e39af93",
   "metadata": {
    "tags": []
   },
   "outputs": [
    {
     "name": "stdout",
     "output_type": "stream",
     "text": [
      "dict_items([((0, 1), 3600.0), ((0, 2), 4200.0), ((0, 3), 2400.0), ((0, 4), 1800.0), ((0, 5), 1800.0), ((0, 6), 1200.0), ((0, 7), 1200.0), ((0, 8), -600.0), ((0, 9), -1200.0), ((0, 10), -2400.0), ((0, 11), -1800.0), ((1, 2), 4200.0), ((1, 3), 2400.0), ((1, 4), 1800.0), ((1, 5), 1800.0), ((1, 6), 1200.0), ((1, 7), 1200.0), ((1, 8), -600.0), ((1, 9), -1200.0), ((1, 10), -2400.0), ((1, 11), -1800.0), ((2, 3), 2800.0), ((2, 4), 2100.0), ((2, 5), 2100.0), ((2, 6), 1400.0), ((2, 7), 1400.0), ((2, 8), -700.0), ((2, 9), -1400.0), ((2, 10), -2800.0), ((2, 11), -2100.0), ((3, 4), 1200.0), ((3, 5), 1200.0), ((3, 6), 800.0), ((3, 7), 800.0), ((3, 8), -400.0), ((3, 9), -800.0), ((3, 10), -1600.0), ((3, 11), -1200.0), ((4, 5), 900.0), ((4, 6), 600.0), ((4, 7), 600.0), ((4, 8), -300.0), ((4, 9), -600.0), ((4, 10), -1200.0), ((4, 11), -900.0), ((5, 6), 600.0), ((5, 7), 600.0), ((5, 8), -300.0), ((5, 9), -600.0), ((5, 10), -1200.0), ((5, 11), -900.0), ((6, 7), 400.0), ((6, 8), -200.0), ((6, 9), -400.0), ((6, 10), -800.0), ((6, 11), -600.0), ((7, 8), -200.0), ((7, 9), -400.0), ((7, 10), -800.0), ((7, 11), -600.0), ((8, 9), 200.0), ((8, 10), 400.0), ((8, 11), 300.0), ((9, 10), 800.0), ((9, 11), 600.0), ((10, 11), 1200.0)])\n"
     ]
    }
   ],
   "source": [
    "print(J1.items())"
   ]
  },
  {
   "cell_type": "code",
   "execution_count": 19,
   "id": "5fdf8d08-bbc7-4d4a-9f4e-d49f05af1149",
   "metadata": {
    "tags": []
   },
   "outputs": [],
   "source": [
    "H = ising.construct_quantum_hamiltonian_qiskit(H1, J1, Cte1)"
   ]
  },
  {
   "cell_type": "code",
   "execution_count": 20,
   "id": "f577be52-250f-4a71-bb93-84fb929f8690",
   "metadata": {
    "tags": []
   },
   "outputs": [],
   "source": [
    "from qiskit.result import QuasiDistribution\n",
    "\n",
    "from qiskit_algorithms import QAOA\n",
    "from qiskit.algorithms.optimizers import COBYLA\n",
    "\n",
    "from qiskit_algorithms.utils import algorithm_globals\n",
    "from qiskit.circuit.library import QAOAAnsatz\n",
    "from qiskit.primitives import Sampler"
   ]
  },
  {
   "cell_type": "code",
   "execution_count": 21,
   "id": "d5bab1a2-4397-410c-ab06-5e503e394cd1",
   "metadata": {
    "tags": []
   },
   "outputs": [],
   "source": [
    "sampler = Sampler()\n",
    "algorithm_globals.random_seed = 10598\n",
    "\n",
    "optimizer = COBYLA()\n",
    "qaoa = QAOA(sampler, optimizer, reps=6)\n",
    "\n",
    "result = qaoa.compute_minimum_eigenvalue(H)\n",
    "#print(result)"
   ]
  },
  {
   "cell_type": "code",
   "execution_count": 22,
   "id": "d2c3efd6-e520-4164-9d54-75fc4fcd3ab3",
   "metadata": {
    "tags": []
   },
   "outputs": [
    {
     "name": "stdout",
     "output_type": "stream",
     "text": [
      "101011110000\n",
      "[6, 6, 7, 4, 3, 3, 2, 2]\n",
      "[6, 7, 7, 4, 3, 4, 2, 1]\n"
     ]
    }
   ],
   "source": [
    "print(result.best_measurement['bitstring'])\n",
    "print(problem['weights'])\n",
    "print(problem['profits'])"
   ]
  },
  {
   "cell_type": "code",
   "execution_count": 23,
   "id": "fe3f1d66-665f-4db4-b8bd-049db15a20d6",
   "metadata": {
    "tags": []
   },
   "outputs": [
    {
     "name": "stderr",
     "output_type": "stream",
     "text": [
      "/scratch_local/slurm_job.13480490/ipykernel_40235/984616585.py:1: DeprecationWarning: The binary mode of fromstring is deprecated, as it behaves surprisingly on unicode inputs. Use frombuffer instead\n",
      "  np.fromstring(result.best_measurement['bitstring'], \"u1\")\n"
     ]
    },
    {
     "data": {
      "text/plain": [
       "array([49, 48, 49, 48, 49, 49, 49, 49, 48, 48, 48, 48], dtype=uint8)"
      ]
     },
     "execution_count": 23,
     "metadata": {},
     "output_type": "execute_result"
    }
   ],
   "source": [
    "np.fromstring(result.best_measurement['bitstring'], \"u1\")"
   ]
  },
  {
   "cell_type": "code",
   "execution_count": 24,
   "id": "6f077a16-4258-4cc4-9be2-dbf63192a43e",
   "metadata": {
    "tags": []
   },
   "outputs": [
    {
     "data": {
      "text/plain": [
       "array('101011110000', dtype='<U12')"
      ]
     },
     "execution_count": 24,
     "metadata": {},
     "output_type": "execute_result"
    }
   ],
   "source": [
    "np.array(result.best_measurement['bitstring'])"
   ]
  },
  {
   "cell_type": "code",
   "execution_count": 1,
   "id": "322639af-cab4-4f6d-aa57-6ba254ad3268",
   "metadata": {
    "tags": []
   },
   "outputs": [],
   "source": [
    "import psutil"
   ]
  },
  {
   "cell_type": "code",
   "execution_count": 2,
   "id": "7340e335-849b-4f63-9a38-588730a6d018",
   "metadata": {
    "tags": []
   },
   "outputs": [
    {
     "name": "stdout",
     "output_type": "stream",
     "text": [
      "svmem(total=404032720896, available=388171653120, percent=3.9, used=13152309248, free=386013282304, active=8025362432, inactive=2491154432, buffers=4440064, cached=4862689280, shared=6000640, slab=3031134208)\n"
     ]
    }
   ],
   "source": [
    "print(psutil.virtual_memory())"
   ]
  },
  {
   "cell_type": "code",
   "execution_count": 3,
   "id": "f6a57d49-1294-4726-bfae-b890bd7b5c33",
   "metadata": {
    "tags": []
   },
   "outputs": [
    {
     "data": {
      "text/plain": [
       "1.411919265985489"
      ]
     },
     "execution_count": 3,
     "metadata": {},
     "output_type": "execute_result"
    }
   ],
   "source": [
    "388105412608/274877906944"
   ]
  },
  {
   "cell_type": "code",
   "execution_count": null,
   "id": "cec184c4-8331-4424-bcb4-6e49c09b5d85",
   "metadata": {},
   "outputs": [],
   "source": []
  },
  {
   "cell_type": "code",
   "execution_count": null,
   "id": "5cacae0d-3841-4e66-914e-0da176d0285e",
   "metadata": {},
   "outputs": [],
   "source": []
  },
  {
   "cell_type": "code",
   "execution_count": null,
   "id": "3b15f4de-0797-4996-ac3f-d43daead2c1b",
   "metadata": {},
   "outputs": [],
   "source": []
  }
 ],
 "metadata": {
  "kernelspec": {
   "display_name": "Python 3.11.6 (ipykernel)",
   "language": "python",
   "name": "python3"
  },
  "language_info": {
   "codemirror_mode": {
    "name": "ipython",
    "version": 3
   },
   "file_extension": ".py",
   "mimetype": "text/x-python",
   "name": "python",
   "nbconvert_exporter": "python",
   "pygments_lexer": "ipython3",
   "version": "3.11.6"
  }
 },
 "nbformat": 4,
 "nbformat_minor": 5
}
