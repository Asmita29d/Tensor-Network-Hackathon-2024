{
 "cells": [
  {
   "cell_type": "code",
   "execution_count": 1,
   "id": "ff4628bc-fe06-4928-bd89-61da4fe8eccf",
   "metadata": {
    "tags": []
   },
   "outputs": [],
   "source": [
    "import numpy as np"
   ]
  },
  {
   "cell_type": "code",
   "execution_count": null,
   "id": "b8022d18-4be9-4db7-8b1f-54974478e93b",
   "metadata": {
    "tags": []
   },
   "outputs": [],
   "source": []
  },
  {
   "cell_type": "code",
   "execution_count": 2,
   "id": "1b11ec2c-fe12-480d-911a-cec9d0975477",
   "metadata": {
    "tags": []
   },
   "outputs": [],
   "source": [
    "import numpy as np \n",
    "from typing import List\n",
    "\n",
    "def get_Q(weights : List[int], profits : List[int], C : int, l : float):\n",
    "    assert len(weights) == len(profits)\n",
    "    \n",
    "    N = len(weights) \n",
    "    M = int(np.floor(np.log2(C)))\n",
    "\n",
    "    nq = N + M + 1\n",
    "\n",
    "    Q = np.zeros((nq, nq))\n",
    "\n",
    "    K = (C + 1 - 2**M)\n",
    "    # Diagonal terms\n",
    "    for n in range(N):\n",
    "        Q[n,n] += l*(weights[n]**2) - profits[n]\n",
    "\n",
    "    for m in range(M):\n",
    "        Q[N+m, N+m] += 2**(2*m)\n",
    "\n",
    "    Q[N+M, N+M] += l*K**2\n",
    "\n",
    "    # Off diagonal terms\n",
    "    # xj xj' \n",
    "    for n1 in range(N):\n",
    "        for n2 in range(n1):\n",
    "            Q[n1, n2] += 2*l*weights[n1]*weights[n2]\n",
    "            Q[n2, n1]  = Q[n1, n2]\n",
    "    # ba ba'\n",
    "    for a1 in range(M):\n",
    "        for a2 in range(a1):\n",
    "            Q[N+a1, N+a2] += l*2**(a1 + a2 + 1)\n",
    "            Q[N+a2, N+a1]  = Q[N+a1, N+a2]\n",
    "    # xj ba \n",
    "    for n in range(N):\n",
    "        for a in range(M):\n",
    "            Q[n, N+a] += - l * (2**(a + 1))\n",
    "            Q[N+a, n]  = Q[n, N+a]\n",
    "    # xj bM\n",
    "    for n in range(N):\n",
    "        Q[n, N+M] += - 2*l*K * weights[n]\n",
    "        Q[n, N+M]  = Q[N+M, n]\n",
    "    # ba bM\n",
    "    for a in range(M):\n",
    "        Q[N+a, N+M] += 2*l*K * (2**a)\n",
    "        Q[N+M, N+a]  = Q[N+a, N+M]\n",
    "\n",
    "    return Q\n"
   ]
  },
  {
   "cell_type": "code",
   "execution_count": 3,
   "id": "fbf41fb0-143b-4652-a6d9-503ad5ddce23",
   "metadata": {
    "tags": []
   },
   "outputs": [
    {
     "data": {
      "text/plain": [
       "'\\nHm=np.zeros([n, n])\\nfor i in range(0,n):\\n    for j in range(0,n):\\n        if i==j:\\n            Hm[i,j]=1\\n        else:\\n            Hm[i,j]=1\\n'"
      ]
     },
     "execution_count": 3,
     "metadata": {},
     "output_type": "execute_result"
    }
   ],
   "source": [
    "'''\n",
    "Hm=np.zeros([n, n])\n",
    "for i in range(0,n):\n",
    "    for j in range(0,n):\n",
    "        if i==j:\n",
    "            Hm[i,j]=1\n",
    "        else:\n",
    "            Hm[i,j]=1\n",
    "'''"
   ]
  },
  {
   "cell_type": "code",
   "execution_count": 9,
   "id": "52592390-5859-4471-8637-74ef3165f532",
   "metadata": {
    "tags": []
   },
   "outputs": [],
   "source": [
    "import data\n",
    "\n",
    "prob = data.load('small')[0]"
   ]
  },
  {
   "cell_type": "code",
   "execution_count": 23,
   "id": "8e0fd770-210b-4cf7-a96e-b8db61eb07f1",
   "metadata": {
    "tags": []
   },
   "outputs": [],
   "source": [
    "from qubo import get_Q\n",
    "\n",
    "Q=get_Q(prob['weights'], prob['profits'], prob['C'], 10)"
   ]
  },
  {
   "cell_type": "code",
   "execution_count": 24,
   "id": "f2f95cc2-9c05-4985-af99-d47881c6e28f",
   "metadata": {
    "tags": []
   },
   "outputs": [],
   "source": [
    "eigenvalues, eigenvectors = np.linalg.eig(Q)"
   ]
  },
  {
   "cell_type": "code",
   "execution_count": 25,
   "id": "c308c2ae-35f2-4d98-b59c-c311fbc530be",
   "metadata": {
    "tags": []
   },
   "outputs": [
    {
     "name": "stdout",
     "output_type": "stream",
     "text": [
      "[12513.26106718  1941.33889983 -2274.71016906 -1304.44528895\n",
      "  -911.39190217  -817.49789553  -457.69224784  -350.90073712\n",
      "  -278.01944917   -23.08260127   -95.39298111  -187.18015407\n",
      "  -163.28654074]\n"
     ]
    }
   ],
   "source": [
    "print(eigenvalues)"
   ]
  },
  {
   "cell_type": "code",
   "execution_count": 26,
   "id": "b782c359-cb0a-4f40-a783-7733b9f62df2",
   "metadata": {},
   "outputs": [
    {
     "data": {
      "text/plain": [
       "-2274.7101690604663"
      ]
     },
     "execution_count": 26,
     "metadata": {},
     "output_type": "execute_result"
    }
   ],
   "source": [
    "min(eigenvalues)"
   ]
  },
  {
   "cell_type": "code",
   "execution_count": 30,
   "id": "a199a369-c49d-4d22-814b-9623f21d3eea",
   "metadata": {
    "tags": []
   },
   "outputs": [
    {
     "name": "stdout",
     "output_type": "stream",
     "text": [
      "[-0.35861035 -0.01354405 -0.0870743  -0.49510279  0.14016627  0.70809245\n",
      "  0.28129481 -0.03567204 -0.10215074  0.00294808  0.01433364  0.07968529\n",
      " -0.00818754]\n"
     ]
    }
   ],
   "source": [
    "print(eigenvectors[2])"
   ]
  },
  {
   "cell_type": "code",
   "execution_count": null,
   "id": "3b1f81a7-7b56-4932-b536-a332be177a0b",
   "metadata": {},
   "outputs": [],
   "source": []
  }
 ],
 "metadata": {
  "kernelspec": {
   "display_name": "Python 3.11.6 (ipykernel)",
   "language": "python",
   "name": "python3"
  },
  "language_info": {
   "codemirror_mode": {
    "name": "ipython",
    "version": 3
   },
   "file_extension": ".py",
   "mimetype": "text/x-python",
   "name": "python",
   "nbconvert_exporter": "python",
   "pygments_lexer": "ipython3",
   "version": "3.11.6"
  }
 },
 "nbformat": 4,
 "nbformat_minor": 5
}
