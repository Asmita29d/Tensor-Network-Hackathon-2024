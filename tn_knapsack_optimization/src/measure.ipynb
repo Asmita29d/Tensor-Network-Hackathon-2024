{
 "cells": [
  {
   "cell_type": "code",
   "execution_count": 58,
   "id": "037dff1e-37bb-4930-a663-dd5883c59f1e",
   "metadata": {
    "tags": []
   },
   "outputs": [],
   "source": [
    "import numpy as np"
   ]
  },
  {
   "cell_type": "code",
   "execution_count": 57,
   "id": "3c79652a-b1b0-4e89-9cb5-96cfcb836895",
   "metadata": {
    "tags": []
   },
   "outputs": [],
   "source": [
    "'''\n",
    "X = np.array([0, 1.]) \n",
    "XX = np.array([0, 1.])\n",
    "Y = np.array([1., 0])\n",
    "YY = np.array([1., 0])\n",
    "'''\n",
    "####insert here the length of the problem\n",
    "n=3\n",
    "for i in range(1, n):\n",
    "    XX = np.tensordot(XX, X, axes=0)\n",
    "#psi=np.array([0,0,0,0,0,0,0,1])\n",
    "bitstring=[]\n",
    "Z = np.array([[1., 0], [0, -1.]])\n",
    "ide = np.array([[1., 0], [0, 1.]])\n",
    "for i in range(0, n):\n",
    "    if i!=0:\n",
    "        op = ide\n",
    "        for j in range (1,i):\n",
    "            op = np.kron(op, ide)\n",
    "        op = np.kron(op, Z)\n",
    "        for j in range (i+1,n):\n",
    "            op = np.kron(op, ide)\n",
    "    else:\n",
    "        op = Z\n",
    "        for j in range(1, n):\n",
    "            op = np.kron(op, ide)\n",
    "    op=np.reshape(op, (2**(n),2**(n)))\n",
    "    ### here is the eigenvector\n",
    "    bitstring.append(psi.dot(op.dot(psi)))\n",
    "    \n",
    "    #print(psi.dot(op.dot(psi)))"
   ]
  }
 ],
 "metadata": {
  "kernelspec": {
   "display_name": "Python 3.11.6 (ipykernel)",
   "language": "python",
   "name": "python3"
  },
  "language_info": {
   "codemirror_mode": {
    "name": "ipython",
    "version": 3
   },
   "file_extension": ".py",
   "mimetype": "text/x-python",
   "name": "python",
   "nbconvert_exporter": "python",
   "pygments_lexer": "ipython3",
   "version": "3.11.6"
  }
 },
 "nbformat": 4,
 "nbformat_minor": 5
}
