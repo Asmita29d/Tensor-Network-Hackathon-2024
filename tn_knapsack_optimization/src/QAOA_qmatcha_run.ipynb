{
 "cells": [
  {
   "cell_type": "code",
   "execution_count": 2,
   "metadata": {
    "colab": {
     "base_uri": "https://localhost:8080/"
    },
    "id": "lomof_Oltpsj",
    "outputId": "bf664146-ed79-4034-e27d-df4f49b10579",
    "tags": []
   },
   "outputs": [],
   "source": [
    "#!pip install qiskit==0.45.0"
   ]
  },
  {
   "cell_type": "code",
   "execution_count": 3,
   "metadata": {
    "colab": {
     "base_uri": "https://localhost:8080/"
    },
    "id": "4-JFqrajTmx4",
    "outputId": "a1934536-ebcf-4e1d-d918-658b764016cb",
    "tags": []
   },
   "outputs": [],
   "source": [
    "#!pip install qiskit_algorithms"
   ]
  },
  {
   "cell_type": "code",
   "execution_count": 6,
   "metadata": {
    "colab": {
     "base_uri": "https://localhost:8080/"
    },
    "id": "fsr3zCq-4I13",
    "outputId": "921247c5-ff75-48c4-b3a3-c7b04ebfd005",
    "tags": []
   },
   "outputs": [
    {
     "name": "stdout",
     "output_type": "stream",
     "text": [
      "\u001b[33mWARNING: Skipping qmatchatea as it is not installed.\u001b[0m\u001b[33m\n",
      "\u001b[0m"
     ]
    }
   ],
   "source": [
    "#pip install -U qiskit-aer\n",
    "#!pip uninstall qmatchatea"
   ]
  },
  {
   "cell_type": "code",
   "execution_count": 8,
   "metadata": {
    "id": "21KHjHd-3xKD",
    "tags": []
   },
   "outputs": [
    {
     "ename": "ModuleNotFoundError",
     "evalue": "No module named 'qmatchatea'",
     "output_type": "error",
     "traceback": [
      "\u001b[0;31m---------------------------------------------------------------------------\u001b[0m",
      "\u001b[0;31mModuleNotFoundError\u001b[0m                       Traceback (most recent call last)",
      "Cell \u001b[0;32mIn[8], line 5\u001b[0m\n\u001b[1;32m      3\u001b[0m \u001b[38;5;28;01mfrom\u001b[39;00m \u001b[38;5;21;01mscipy\u001b[39;00m\u001b[38;5;21;01m.\u001b[39;00m\u001b[38;5;21;01moptimize\u001b[39;00m \u001b[38;5;28;01mimport\u001b[39;00m minimize\n\u001b[1;32m      4\u001b[0m \u001b[38;5;28;01mimport\u001b[39;00m \u001b[38;5;21;01mqtealeaves\u001b[39;00m\u001b[38;5;21;01m.\u001b[39;00m\u001b[38;5;21;01mobservables\u001b[39;00m \u001b[38;5;28;01mas\u001b[39;00m \u001b[38;5;21;01mobs\u001b[39;00m\n\u001b[0;32m----> 5\u001b[0m \u001b[38;5;28;01mfrom\u001b[39;00m \u001b[38;5;21;01mqmatchatea\u001b[39;00m \u001b[38;5;28;01mimport\u001b[39;00m QCOperators, run_simulation\n\u001b[1;32m      6\u001b[0m \u001b[38;5;28;01mfrom\u001b[39;00m \u001b[38;5;21;01mqiskit\u001b[39;00m \u001b[38;5;28;01mimport\u001b[39;00m QuantumCircuit\n\u001b[1;32m      7\u001b[0m \u001b[38;5;28;01mimport\u001b[39;00m \u001b[38;5;21;01mqubo\u001b[39;00m\n",
      "\u001b[0;31mModuleNotFoundError\u001b[0m: No module named 'qmatchatea'"
     ]
    }
   ],
   "source": [
    "from qiskit.circuit.library import TwoLocal, RZZGate, SwapGate\n",
    "import numpy as np\n",
    "from scipy.optimize import minimize\n",
    "import qtealeaves.observables as obs\n",
    "from qmatchatea import QCOperators, run_simulation\n",
    "from qiskit import QuantumCircuit\n",
    "import qubo\n",
    "import ising\n",
    "import data"
   ]
  },
  {
   "cell_type": "code",
   "execution_count": 1,
   "metadata": {
    "id": "IIKrSAYs4AQq"
   },
   "outputs": [],
   "source": [
    "def qaoa_step(theta, ansatz, observables):\n",
    "    ops = QCOperators()\n",
    "    ops.ops[\"Z\"] = np.array([[1, 0], [0, -1]])\n",
    "    # bind the parametric ansatz to the parameters\n",
    "    binded_ansatz = ansatz.assign_parameters(theta)\n",
    "    # Run the simulation\n",
    "    res = run_simulation(binded_ansatz, observables=observables, operators=ops)\n",
    "\n",
    "    return np.real(res.observables[\"hamiltonian\"])\n"
   ]
  },
  {
   "cell_type": "code",
   "execution_count": 21,
   "metadata": {
    "id": "2QyTEgEd4q5D"
   },
   "outputs": [],
   "source": [
    "def qaoa_all(H, reps=2):\n",
    "    num_qubits = np.shape(H.to_matrix())[0]\n",
    "    qc = QuantumCircuit(num_qubits)\n",
    "\n",
    "    gamma = []\n",
    "    beta = []\n",
    "    for ii in range(num_qubits):\n",
    "        qc.h(ii)\n",
    "\n",
    "    for ii in range(num_qubits):\n",
    "        qc.rz(2 * gamma * h[ii], ii)\n",
    "\n",
    "    for ii in range(num_qubits):\n",
    "        for jj in range(ii):\n",
    "            qc.rzz(2 * gamma * J[(jj,ii)], jj, ii)\n",
    "\n",
    "    for ii in range(num_qubits):\n",
    "        qc.rx(2 * beta, ii)\n",
    "\n",
    "    return qc\n"
   ]
  },
  {
   "cell_type": "code",
   "execution_count": 24,
   "metadata": {
    "id": "NtMgw8TIqV-w"
   },
   "outputs": [],
   "source": [
    "def operators(H, h, J):\n",
    "    num_qubits = np.shape(H.to_matrix())[0]\n",
    "    local = [\n",
    "            {\n",
    "                \"label\": \"I\" * ii + \"Z\" + \"I\" * (num_qubits - ii - 1),\n",
    "                \"coeff\": {\"real\": h[ii], \"imag\": 0},\n",
    "            }\n",
    "            for ii in range(num_qubits)\n",
    "        ]\n",
    "\n",
    "\n",
    "    for (i, j), J_ij in J.items():\n",
    "          two_body = [\n",
    "          {\n",
    "              \"label\": \"I\" * i + \"Z\" + \"I\" * (j - i - 1) + \"Z\" + \"I\" * (num_qubits - j - 1),\n",
    "              \"coeff\": {\"real\": J_ij, \"imag\": 0},\n",
    "          }\n",
    "      ]\n",
    "\n",
    "    pauli_dict_hamiltonian = {\"paulis\": local + two_body}\n",
    "\n",
    "    return pauli_dict_hamiltonian\n"
   ]
  },
  {
   "cell_type": "code",
   "execution_count": 23,
   "metadata": {
    "id": "4DQQbUNBs8DU"
   },
   "outputs": [],
   "source": [
    "def main():\n",
    "    problems=data.load(\"small\", \"./../kp_instances\")\n",
    "    problem=problems[0]\n",
    "    qubo1=qubo.get_Q(problem['weights'], problem['profits'], problem['C'], 200)\n",
    "    h, J, Cte=ising.qubo_to_hamiltonian(qubo1)\n",
    "    H = ising.construct_quantum_hamiltonian_qiskit(h, J, Cte)\n",
    "    pauli_dict_hamiltonian = operators(H, h, J)\n",
    "    obsv = obs.TNObservables()\n",
    "    ham = obs.TNObsWeightedSum.from_pauli_string(\"hamiltonian\", pauli_dict_hamiltonian)\n",
    "    obsv += ham\n",
    "\n",
    "    qc = qaoa_all(H, 3)\n",
    "    qaoa_step_opt = lambda x: qaoa_step(x, qc, obsv)\n",
    "    initial_guess = np.random.normal(np.pi / 2, 0.05, qc.num_parameters)\n",
    "    initial_energy = qaoa_step_opt(initial_guess)\n",
    "    print(f\"Initial energy: {initial_energy}\")\n",
    "\n",
    "    res = minimize(qaoa_step_opt, initial_guess, method=\"COBYLA\")\n",
    "\n",
    "    final_energy = qaoa_step_opt(res.x)\n",
    "    print(f\"Final energy: {final_energy}\")\n",
    "    \n",
    "#print(qubo1.shape)\n",
    "\n",
    "\n"
   ]
  },
  {
   "cell_type": "code",
   "execution_count": 2,
   "metadata": {
    "tags": []
   },
   "outputs": [
    {
     "ename": "NameError",
     "evalue": "name 'main' is not defined",
     "output_type": "error",
     "traceback": [
      "\u001b[0;31m---------------------------------------------------------------------------\u001b[0m",
      "\u001b[0;31mNameError\u001b[0m                                 Traceback (most recent call last)",
      "Cell \u001b[0;32mIn[2], line 1\u001b[0m\n\u001b[0;32m----> 1\u001b[0m \u001b[43mmain\u001b[49m()\n",
      "\u001b[0;31mNameError\u001b[0m: name 'main' is not defined"
     ]
    }
   ],
   "source": [
    "main()"
   ]
  },
  {
   "cell_type": "code",
   "execution_count": null,
   "metadata": {},
   "outputs": [],
   "source": []
  }
 ],
 "metadata": {
  "colab": {
   "provenance": []
  },
  "kernelspec": {
   "display_name": "Python 3.11.6 (ipykernel)",
   "language": "python",
   "name": "python3"
  },
  "language_info": {
   "codemirror_mode": {
    "name": "ipython",
    "version": 3
   },
   "file_extension": ".py",
   "mimetype": "text/x-python",
   "name": "python",
   "nbconvert_exporter": "python",
   "pygments_lexer": "ipython3",
   "version": "3.11.6"
  }
 },
 "nbformat": 4,
 "nbformat_minor": 4
}
