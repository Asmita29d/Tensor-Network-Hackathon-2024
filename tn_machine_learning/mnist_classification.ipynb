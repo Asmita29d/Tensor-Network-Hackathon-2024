{
 "cells": [
  {
   "cell_type": "markdown",
   "metadata": {},
   "source": [
    "## Classification of MNIST dataset with tensor networks"
   ]
  },
  {
   "cell_type": "code",
   "execution_count": null,
   "metadata": {},
   "outputs": [],
   "source": [
    "# import packages here\n",
    "# --------------------------------------\n",
    "import matplotlib.pyplot as plt\n",
    "\n",
    "import qtealeaves as qtl\n",
    "from qtealeaves.convergence_parameters.conv_params import TNConvergenceParameters\n",
    "from qtealeaves.emulator.mps_simulator import MPS"
   ]
  },
  {
   "cell_type": "markdown",
   "metadata": {},
   "source": [
    "### Load MNIST dataset"
   ]
  },
  {
   "cell_type": "code",
   "execution_count": null,
   "metadata": {},
   "outputs": [],
   "source": [
    "# Load dataset here\n",
    "# --------------------------------------\n",
    "X_train, X_test, y_train, y_test = ..."
   ]
  },
  {
   "cell_type": "markdown",
   "metadata": {},
   "source": [
    "### Build classifier\n"
   ]
  },
  {
   "cell_type": "code",
   "execution_count": null,
   "metadata": {},
   "outputs": [],
   "source": [
    "# Convert dataset into a list of MPS\n",
    "# --------------------------------------\n",
    "X_train_mps = ...\n",
    "X_test_mps = ..."
   ]
  },
  {
   "cell_type": "code",
   "execution_count": null,
   "metadata": {},
   "outputs": [],
   "source": [
    "# Optimize MPS\n",
    "\n",
    "# get number of sites\n",
    "num_sites = ...\n",
    "\n",
    "# define max bond dimension\n",
    "max_bond = ...\n",
    "\n",
    "# define batch size, learning rate and number of sweeps\n",
    "batch_size = ...\n",
    "learning_rate = ...\n",
    "num_sweeps = ...\n",
    "\n",
    "# initialize MPS for the classifier\n",
    "conv_params = TNConvergenceParameters(\n",
    "                    max_bond_dimension=max_bond)\n",
    "tn_classifier = MPS(num_sites, conv_params, dtype=float)\n",
    "\n",
    "svd, loss = tn_classifier.ml_optimize_mps(X_train_mps,\n",
    "                                y_train,\n",
    "                                batch_size=batch_size,\n",
    "                                learning_rate=learning_rate,\n",
    "                                num_sweeps=num_sweeps,\n",
    "                                n_jobs=1,\n",
    "                                verbose=True)"
   ]
  },
  {
   "cell_type": "markdown",
   "metadata": {},
   "source": [
    "### Prediction on train and test dataset"
   ]
  },
  {
   "cell_type": "code",
   "execution_count": null,
   "metadata": {},
   "outputs": [],
   "source": [
    "y_train_pred = tn_classifier.ml_predict(X_train_mps, n_jobs=1)\n",
    "y_test_pred = tn_classifier.ml_predict(X_test_mps, n_jobs=1)"
   ]
  },
  {
   "cell_type": "code",
   "execution_count": null,
   "metadata": {},
   "outputs": [],
   "source": []
  },
  {
   "cell_type": "markdown",
   "metadata": {},
   "source": [
    "# "
   ]
  }
 ],
 "metadata": {
  "language_info": {
   "name": "python"
  }
 },
 "nbformat": 4,
 "nbformat_minor": 2
}
